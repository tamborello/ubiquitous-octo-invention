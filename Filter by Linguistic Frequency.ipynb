{
 "cells": [
  {
   "cell_type": "markdown",
   "metadata": {},
   "source": [
    "<H1>Linguistic Word Frequency</h1>\n",
    "Can I filter OCRed documents by linguistic frequency? I'm going to try [the wordfreq](https://pypi.org/project/wordfreq/) library."
   ]
  },
  {
   "cell_type": "code",
   "execution_count": 126,
   "metadata": {},
   "outputs": [],
   "source": [
    "from wordfreq import tokenize, word_frequency, zipf_frequency\n",
    "import gensim, os, spacy\n",
    "import pandas as pd\n",
    "# from textstat.textstat import textstatistics,legacy_round\n",
    "ecws = spacy.load('en_core_web_sm')\n",
    "from utils.dataclean import dataclean\n",
    "from utils.pickle_it import pickle_it\n",
    "from utils.whoopsie import whoopsie\n",
    "import matplotlib.pyplot as plt\n",
    "from scipy import stats"
   ]
  },
  {
   "cell_type": "code",
   "execution_count": 4,
   "metadata": {},
   "outputs": [],
   "source": [
    "def word_freqs(toks, type=\"raw\"):\n",
    "\tfreqs = []\n",
    "\tfor tok in toks:\n",
    "\t\tif type==\"raw\":\n",
    "\t\t\tfreqs.append(word_frequency(tok, 'en'))\n",
    "\t\telif type==\"zipf\":\n",
    "\t\t\tfreqs.append(zipf_frequency(tok, 'en'))\n",
    "\t\telse:\n",
    "\t\t\traise Exception(\"Frequency type must be'raw' or 'zipf'.\")\n",
    "\treturn freqs"
   ]
  },
  {
   "cell_type": "code",
   "execution_count": 6,
   "metadata": {},
   "outputs": [
    {
     "name": "stdout",
     "output_type": "stream",
     "text": [
      "4\n",
      "\n",
      "LEE HARVEY OSWALD\n",
      "\n",
      "Union organization in Tulsa for 11 years and this form became\n",
      "obsolete sometim\n"
     ]
    }
   ],
   "source": [
    "with open(\"docs/2018_txt_dump/104-10012-10037.txt\", encoding=\"UTF-8\") as f:\n",
    "    good_doc = f.read()\n",
    "print(good_doc[:100])\n"
   ]
  },
  {
   "cell_type": "code",
   "execution_count": 8,
   "metadata": {},
   "outputs": [
    {
     "name": "stdout",
     "output_type": "stream",
     "text": [
      " \n",
      "\n",
      " \n",
      "\n",
      " \n",
      "\n",
      " \n",
      "\n",
      " \n",
      "\n",
      " \n",
      "\n",
      " \n",
      "\n",
      " \n",
      "\n",
      " \n",
      "\n",
      " \n",
      "\n",
      " \n",
      "\n",
      " \n",
      "\n",
      "INTERNAL D\n",
      "sez GVO “tormens* 5} SECRET ©] CONFIDENTIAL §=(-] {TE\n"
     ]
    }
   ],
   "source": [
    "with open(\"docs/2018_txt_dump/104-10003-10204.txt\", encoding=\"UTF-8\") as f:\n",
    "    bad_doc = f.read()\n",
    "print(bad_doc[:100])\n"
   ]
  },
  {
   "cell_type": "code",
   "execution_count": 35,
   "metadata": {},
   "outputs": [
    {
     "name": "stdout",
     "output_type": "stream",
     "text": [
      "Good Doc: 0.004674258158605799, Bad Doc: 0.00013460253076923078\n"
     ]
    }
   ],
   "source": [
    "good_doc_toks = tokenize(good_doc, 'en')\n",
    "bad_doc_toks = tokenize(bad_doc, 'en')\n",
    "good_doc_freqs = word_freqs(good_doc_toks)\n",
    "bad_doc_freqs = word_freqs(bad_doc_toks)\n",
    "good_doc_idx = sum(good_doc_freqs) / len(good_doc_toks)\n",
    "bad_doc_idx = sum(bad_doc_freqs) / len(bad_doc_toks)\n",
    "print(f\"Good Doc: {good_doc_idx}, Bad Doc: {bad_doc_idx}\")"
   ]
  },
  {
   "cell_type": "code",
   "execution_count": 100,
   "metadata": {},
   "outputs": [
    {
     "data": {
      "text/plain": [
       "[]"
      ]
     },
     "execution_count": 100,
     "metadata": {},
     "output_type": "execute_result"
    }
   ],
   "source": [
    "tokenize(\"§=(-]\", 'en')"
   ]
  },
  {
   "cell_type": "code",
   "execution_count": 86,
   "metadata": {},
   "outputs": [
    {
     "data": {
      "text/plain": [
       "['nyqub']"
      ]
     },
     "execution_count": 86,
     "metadata": {},
     "output_type": "execute_result"
    }
   ],
   "source": [
    "tokenize(\"nyqub\", 'en')"
   ]
  },
  {
   "cell_type": "code",
   "execution_count": 87,
   "metadata": {},
   "outputs": [
    {
     "data": {
      "text/plain": [
       "0.0"
      ]
     },
     "execution_count": 87,
     "metadata": {},
     "output_type": "execute_result"
    }
   ],
   "source": [
    "word_frequency('nyqub', 'en')"
   ]
  },
  {
   "cell_type": "code",
   "execution_count": 88,
   "metadata": {},
   "outputs": [
    {
     "data": {
      "text/plain": [
       "0.0"
      ]
     },
     "execution_count": 88,
     "metadata": {},
     "output_type": "execute_result"
    }
   ],
   "source": [
    "zipf_frequency('nyqub', 'en')"
   ]
  },
  {
   "cell_type": "code",
   "execution_count": 36,
   "metadata": {},
   "outputs": [
    {
     "name": "stdout",
     "output_type": "stream",
     "text": [
      "internal, 4.57e-05\n",
      "d, 0.000288\n",
      "sez, 3.72e-07\n",
      "gvo, 2.09e-08\n",
      "tormens, 0.0\n",
      "5, 0.000562\n",
      "secret, 8.32e-05\n",
      "©, 1.86e-05\n",
      "confidential, 7.94e-06\n",
      "ternal, 0.0\n",
      "6, 0.000389\n",
      "7, 0.000355\n",
      "unclassifie, 0.0\n"
     ]
    }
   ],
   "source": [
    "for i in range(0, len(bad_doc_toks)):\n",
    "    print(f\"{bad_doc_toks[i]}, {bad_doc_freqs[i]}\")"
   ]
  },
  {
   "cell_type": "code",
   "execution_count": 9,
   "metadata": {},
   "outputs": [
    {
     "name": "stdout",
     "output_type": "stream",
     "text": [
      "Good Doc: 5.271048735348559, Bad Doc: 3.3838461538461533\n"
     ]
    }
   ],
   "source": [
    "good_doc_toks = tokenize(good_doc, 'en')\n",
    "bad_doc_toks = tokenize(bad_doc, 'en')\n",
    "good_doc_freqs = word_freqs(good_doc_toks, type=\"zipf\")\n",
    "bad_doc_freqs = word_freqs(bad_doc_toks, type=\"zipf\")\n",
    "good_doc_idx = sum(good_doc_freqs) / len(good_doc_toks)\n",
    "bad_doc_idx = sum(bad_doc_freqs) / len(bad_doc_toks)\n",
    "print(f\"Good Doc: {good_doc_idx}, Bad Doc: {bad_doc_idx}\")"
   ]
  },
  {
   "cell_type": "code",
   "execution_count": 110,
   "metadata": {},
   "outputs": [
    {
     "name": "stdout",
     "output_type": "stream",
     "text": [
      "Computed frequency for 0 documents.\n",
      "Computed frequency for 1000 documents.\n",
      "Computed frequency for 2000 documents.\n",
      "Computed frequency for 3000 documents.\n",
      "Computed frequency for 4000 documents.\n",
      "Computed frequency for 5000 documents.\n",
      "Computed frequency for 6000 documents.\n",
      "Computed frequency for 7000 documents.\n",
      "Computed frequency for 8000 documents.\n",
      "Computed frequency for 9000 documents.\n",
      "Computed frequency for 10000 documents.\n",
      "Computed frequency for 11000 documents.\n",
      "Computed frequency for 12000 documents.\n",
      "Computed frequency for 13000 documents.\n",
      "Computed frequency for 14000 documents.\n",
      "Computed frequency for 15000 documents.\n",
      "Computed frequency for 16000 documents.\n"
     ]
    }
   ],
   "source": [
    "doc_freqs = pd.DataFrame(columns=[\"Doc\", \"Text\", \"Tokens\", \"Length\", \"Freqs, Raw\", \"Freqs, Zipf\", \"Freq_Idx_Raw\", \"Freq_Idx_Zipf\", \"Exclude\"])\n",
    "# doc_freqs = pd.DataFrame()\n",
    "\n",
    "files = os.listdir(\"Corpus\")\n",
    "\n",
    "for i in range(0, len(files)):\n",
    "    try:\n",
    "        doc_name = files[i][:-4]\n",
    "        with open(\"Corpus\" + \"/\" + files[i], encoding=\"UTF-8\") as f:\n",
    "            text = f.read()\n",
    "        toks = tokenize(text, 'en')\n",
    "        length = len(toks)\n",
    "        if length == 0:\n",
    "            exclude = True\n",
    "            raw_freqs = None\n",
    "            zipf_freqs = None\n",
    "            doc_freqs_raw = None\n",
    "            doc_freqs_zipf = None\n",
    "        elif length > 0:\n",
    "            exclude = False\n",
    "            raw_freqs = word_freqs(toks)\n",
    "            zipf_freqs = word_freqs(toks, type=\"zipf\")\n",
    "            doc_freqs_raw = sum(raw_freqs) / len(toks)\n",
    "            doc_freqs_zipf = sum(zipf_freqs) / len(toks)\n",
    "    except Exception as exc:\n",
    "        whoopsie(str(exc))\n",
    "\n",
    "    try:\n",
    "        # doc_freqs = pd.concat([doc_freqs, pd.Series(data={\"Doc\":doc_name, \"Text\":text, \"Tokens\":toks, \"Freqs, Raw\":raw_freqs, \\\n",
    "        #     \"Freqs, Zipf\":zipf_freqs, \"Freq_Idx_Raw\":doc_freqs_raw, \"Freq_Idx_Zipf\":doc_freqs_zipf}, name=i)], axis=0)\n",
    "        doc_freqs.loc[len(doc_freqs)] = pd.Series(data={\"Doc\":doc_name, \"Text\":text, \"Tokens\":toks, \"Length\":length, \"Freqs, Raw\":raw_freqs, \\\n",
    "            \"Freqs, Zipf\":zipf_freqs, \"Freq_Idx_Raw\":doc_freqs_raw, \"Freq_Idx_Zipf\":doc_freqs_zipf, \"Exclude\":exclude}, name=i)\n",
    "    except Exception as exc:\n",
    "        whoopsie(str(exc))\n",
    "\n",
    "    if i % 1000 == 0:\n",
    "        print(f\"Computed frequency for {i} documents.\")\n",
    "\n",
    "pickle_it(doc_freqs, \"doc_freqs.pkl\")"
   ]
  },
  {
   "cell_type": "code",
   "execution_count": 102,
   "metadata": {},
   "outputs": [
    {
     "data": {
      "text/plain": [
       "(16829, 9)"
      ]
     },
     "execution_count": 102,
     "metadata": {},
     "output_type": "execute_result"
    }
   ],
   "source": [
    "doc_freqs.shape"
   ]
  },
  {
   "cell_type": "code",
   "execution_count": 75,
   "metadata": {},
   "outputs": [
    {
     "data": {
      "text/plain": [
       "'104-10001-10008.txt'"
      ]
     },
     "execution_count": 75,
     "metadata": {},
     "output_type": "execute_result"
    }
   ],
   "source": [
    "files[0]"
   ]
  },
  {
   "cell_type": "code",
   "execution_count": 105,
   "metadata": {},
   "outputs": [
    {
     "data": {
      "text/plain": [
       "<bound method NDFrame.head of                    Doc                                               Text  \\\n",
       "0      104-10001-10008  104-10001-10008\\n\\nce .. MAAR 22416\\n. 5 . . B...   \n",
       "1      104-10001-10015  13-00000 ©\\n\\ng- 1963: Acearding to an extreme...   \n",
       "2      104-10001-10034  13-00000\\n\\n \\n\\n \\n\\n \\n\\n \\n\\n \\n\\n \\n\\n \\n\\...   \n",
       "3      104-10001-10035   \\n\\n \\n\\n3, For your information, the above p...   \n",
       "4      104-10001-10042   \\n\\nAGENCY\\n\\nRECORD NUMBER\\nRECORD SERIES\\nA...   \n",
       "...                ...                                                ...   \n",
       "16824   docid_32328451  CG 92-374\\n\\nIn 1934, LEONARD PATRICK was at a...   \n",
       "16825   docid_32328743  Office of Origin\\n\\nNSW ORLEANS:\\n\\n \\n\\n«\\n\\n...   \n",
       "16826   docid_32328757  Re~ort Porm\\n\\n \\n\\n \\n\\n \\n\\n \\n\\n \\n\\n \\n\\nF...   \n",
       "16827   docid_32328769  NY ad\\n\\nLR 162-8\\n\\nOn April 20, 1961, T-9 ad...   \n",
       "16828   docid_32576099  NW 45839\\n\\nAL 92-553\\n\\nMORRISON, several oth...   \n",
       "\n",
       "                                                  Tokens Length  \\\n",
       "0      [104, 10001, 10008, ce, maar, 22416, 5, be, ma...     91   \n",
       "1      [13, 00000, ©, g, 1963, acearding, to, an, ext...    742   \n",
       "2      [13, 00000, a, classification, memes, dispatch...    939   \n",
       "3      [3, for, your, information, the, above, person...    249   \n",
       "4      [agency, record, number, record, series, agenc...    518   \n",
       "...                                                  ...    ...   \n",
       "16824  [cg, 92, 374, in, 1934, leonard, patrick, was,...   2924   \n",
       "16825  [office, of, origin, nsw, orleans, al, agent, ...    298   \n",
       "16826  [re, ort, porm, fd, i63, 5, 12, 55, federal, b...    352   \n",
       "16827  [ny, ad, lr, 162, 8, on, april, 20, 1961, t, 9...   1757   \n",
       "16828  [nw, 45839, al, 92, 553, morrison, several, ot...   2618   \n",
       "\n",
       "                                              Freqs, Raw  \\\n",
       "0      [0.00182, 7.41e-05, 7.41e-05, 6.76e-06, 2.69e-...   \n",
       "1      [0.00692, 7.41e-05, 1.86e-05, 0.0001, 0.00427,...   \n",
       "2      [0.00692, 7.41e-05, 0.0229, 1.51e-05, 5.62e-06...   \n",
       "3      [0.000813, 0.0102, 0.00339, 0.000269, 0.0537, ...   \n",
       "4      [7.41e-05, 0.000162, 0.000417, 0.000162, 0.000...   \n",
       "...                                                  ...   \n",
       "16824  [2.04e-06, 0.00692, 0.00182, 0.0186, 0.00427, ...   \n",
       "16825  [0.000251, 0.0251, 3.55e-05, 6.46e-06, 1.62e-0...   \n",
       "16826  [0.00017, 2.45e-07, 1.2e-08, 1.48e-06, 1.1e-06...   \n",
       "16827  [2.69e-05, 5.75e-05, 2.09e-06, 0.00182, 0.0003...   \n",
       "16828  [5.25e-06, 7.41e-05, 0.000145, 0.00692, 0.0018...   \n",
       "\n",
       "                                             Freqs, Zipf Freq_Idx_Raw  \\\n",
       "0      [6.26, 4.87, 4.87, 3.83, 2.43, 4.87, 5.75, 6.7...      0.00466   \n",
       "1      [6.84, 4.87, 4.27, 5.0, 6.63, 0.0, 7.43, 6.53,...     0.005461   \n",
       "2      [6.84, 4.87, 7.36, 4.18, 3.75, 3.76, 4.31, 7.4...     0.004374   \n",
       "3      [5.91, 7.01, 6.53, 5.43, 7.73, 5.2, 3.9, 6.71,...     0.002309   \n",
       "4      [4.87, 5.21, 5.62, 5.21, 5.35, 4.87, 4.75, 5.6...     0.004268   \n",
       "...                                                  ...          ...   \n",
       "16824  [3.31, 6.84, 6.26, 7.27, 6.63, 4.01, 4.37, 6.8...     0.006357   \n",
       "16825  [5.4, 7.4, 4.55, 3.81, 4.21, 5.16, 4.81, 5.02,...     0.004634   \n",
       "16826  [5.23, 2.39, 1.08, 3.17, 3.04, 5.75, 6.84, 6.8...       0.0028   \n",
       "16827  [4.43, 4.76, 3.32, 6.26, 5.48, 6.91, 5.19, 6.8...     0.005581   \n",
       "16828  [3.72, 4.87, 5.16, 6.84, 6.26, 3.87, 5.39, 6.1...     0.005708   \n",
       "\n",
       "      Freq_Idx_Zipf Exclude  \n",
       "0          5.028571   False  \n",
       "1          4.624461   False  \n",
       "2          4.378946   False  \n",
       "3          3.771526   False  \n",
       "4          5.058398   False  \n",
       "...             ...     ...  \n",
       "16824      5.414254   False  \n",
       "16825      5.082685   False  \n",
       "16826      4.985653   False  \n",
       "16827      5.314109   False  \n",
       "16828       5.45293   False  \n",
       "\n",
       "[16829 rows x 9 columns]>"
      ]
     },
     "execution_count": 105,
     "metadata": {},
     "output_type": "execute_result"
    }
   ],
   "source": [
    "doc_freqs.head"
   ]
  },
  {
   "cell_type": "code",
   "execution_count": 111,
   "metadata": {},
   "outputs": [
    {
     "data": {
      "text/html": [
       "<div>\n",
       "<style scoped>\n",
       "    .dataframe tbody tr th:only-of-type {\n",
       "        vertical-align: middle;\n",
       "    }\n",
       "\n",
       "    .dataframe tbody tr th {\n",
       "        vertical-align: top;\n",
       "    }\n",
       "\n",
       "    .dataframe thead th {\n",
       "        text-align: right;\n",
       "    }\n",
       "</style>\n",
       "<table border=\"1\" class=\"dataframe\">\n",
       "  <thead>\n",
       "    <tr style=\"text-align: right;\">\n",
       "      <th></th>\n",
       "      <th>Doc</th>\n",
       "      <th>Text</th>\n",
       "      <th>Tokens</th>\n",
       "      <th>Length</th>\n",
       "      <th>Freqs, Raw</th>\n",
       "      <th>Freqs, Zipf</th>\n",
       "      <th>Freq_Idx_Raw</th>\n",
       "      <th>Freq_Idx_Zipf</th>\n",
       "      <th>Exclude</th>\n",
       "    </tr>\n",
       "  </thead>\n",
       "  <tbody>\n",
       "    <tr>\n",
       "      <th>10</th>\n",
       "      <td>104-10003-10071</td>\n",
       "      <td>\\n</td>\n",
       "      <td>[]</td>\n",
       "      <td>0</td>\n",
       "      <td>None</td>\n",
       "      <td>None</td>\n",
       "      <td>None</td>\n",
       "      <td>None</td>\n",
       "      <td>True</td>\n",
       "    </tr>\n",
       "    <tr>\n",
       "      <th>511</th>\n",
       "      <td>104-10064-10022</td>\n",
       "      <td></td>\n",
       "      <td>[]</td>\n",
       "      <td>0</td>\n",
       "      <td>None</td>\n",
       "      <td>None</td>\n",
       "      <td>None</td>\n",
       "      <td>None</td>\n",
       "      <td>True</td>\n",
       "    </tr>\n",
       "    <tr>\n",
       "      <th>639</th>\n",
       "      <td>104-10069-10325</td>\n",
       "      <td>\\n\\n \\n\\n \\n\\n \\n</td>\n",
       "      <td>[]</td>\n",
       "      <td>0</td>\n",
       "      <td>None</td>\n",
       "      <td>None</td>\n",
       "      <td>None</td>\n",
       "      <td>None</td>\n",
       "      <td>True</td>\n",
       "    </tr>\n",
       "  </tbody>\n",
       "</table>\n",
       "</div>"
      ],
      "text/plain": [
       "                 Doc                Text Tokens Length Freqs, Raw Freqs, Zipf  \\\n",
       "10   104-10003-10071                  \\n     []      0       None        None   \n",
       "511  104-10064-10022                         []      0       None        None   \n",
       "639  104-10069-10325   \\n\\n \\n\\n \\n\\n \\n     []      0       None        None   \n",
       "\n",
       "    Freq_Idx_Raw Freq_Idx_Zipf Exclude  \n",
       "10          None          None    True  \n",
       "511         None          None    True  \n",
       "639         None          None    True  "
      ]
     },
     "execution_count": 111,
     "metadata": {},
     "output_type": "execute_result"
    }
   ],
   "source": [
    "doc_freqs.loc[doc_freqs['Exclude']==True][:3]"
   ]
  },
  {
   "cell_type": "code",
   "execution_count": 116,
   "metadata": {},
   "outputs": [
    {
     "data": {
      "text/plain": [
       "(16795, 9)"
      ]
     },
     "execution_count": 116,
     "metadata": {},
     "output_type": "execute_result"
    }
   ],
   "source": [
    "df_filtered = doc_freqs.loc[doc_freqs['Exclude']==False]\n",
    "df_filtered.shape"
   ]
  },
  {
   "cell_type": "code",
   "execution_count": 73,
   "metadata": {},
   "outputs": [
    {
     "name": "stdout",
     "output_type": "stream",
     "text": [
      "0.003816258520744673 0.003816258520744673\n"
     ]
    }
   ],
   "source": [
    "print(min(doc_freqs[\"Freq_Idx_Raw\"]), max(doc_freqs[\"Freq_Idx_Raw\"]))"
   ]
  },
  {
   "cell_type": "code",
   "execution_count": 114,
   "metadata": {},
   "outputs": [
    {
     "data": {
      "text/plain": [
       "(array([1.180e+02, 1.740e+02, 5.890e+02, 1.368e+03, 1.960e+03, 1.952e+03,\n",
       "        1.896e+03, 1.731e+03, 1.647e+03, 1.538e+03, 1.276e+03, 1.039e+03,\n",
       "        6.610e+02, 4.470e+02, 2.190e+02, 1.140e+02, 4.700e+01, 1.300e+01,\n",
       "        3.000e+00, 2.000e+00, 1.000e+00]),\n",
       " array([0.0, 0.0005495028634920634, 0.0010990057269841269,\n",
       "        0.0016485085904761904, 0.0021980114539682538, 0.002747514317460317,\n",
       "        0.003297017180952381, 0.003846520044444444, 0.0043960229079365075,\n",
       "        0.004945525771428571, 0.005495028634920634, 0.006044531498412698,\n",
       "        0.006594034361904762, 0.007143537225396825, 0.007693040088888888,\n",
       "        0.008242542952380952, 0.008792045815873015, 0.009341548679365078,\n",
       "        0.009891051542857143, 0.010440554406349205, 0.010990057269841268,\n",
       "        0.011539560133333333], dtype=object),\n",
       " <BarContainer object of 21 artists>)"
      ]
     },
     "execution_count": 114,
     "metadata": {},
     "output_type": "execute_result"
    },
    {
     "data": {
      "image/png": "[encoded data removed]",
      "text/plain": [
       "<Figure size 432x288 with 1 Axes>"
      ]
     },
     "metadata": {
      "needs_background": "light"
     },
     "output_type": "display_data"
    }
   ],
   "source": [
    "plt.hist(df_filtered[\"Freq_Idx_Raw\"], bins=21)"
   ]
  },
  {
   "cell_type": "code",
   "execution_count": 115,
   "metadata": {},
   "outputs": [
    {
     "data": {
      "text/plain": [
       "(array([3.000e+00, 0.000e+00, 1.000e+00, 1.000e+00, 1.000e+00, 2.000e+00,\n",
       "        6.000e+00, 1.600e+01, 4.600e+01, 1.650e+02, 4.570e+02, 9.460e+02,\n",
       "        1.464e+03, 1.991e+03, 3.738e+03, 5.167e+03, 2.437e+03, 3.460e+02,\n",
       "        6.000e+00, 0.000e+00, 2.000e+00]),\n",
       " array([0.0, 0.32571428571428573, 0.6514285714285715, 0.9771428571428572,\n",
       "        1.302857142857143, 1.6285714285714286, 1.9542857142857144,\n",
       "        2.2800000000000002, 2.605714285714286, 2.9314285714285715,\n",
       "        3.257142857142857, 3.582857142857143, 3.908571428571429,\n",
       "        4.234285714285715, 4.5600000000000005, 4.885714285714286,\n",
       "        5.211428571428572, 5.537142857142857, 5.862857142857143,\n",
       "        6.188571428571429, 6.514285714285714, 6.84], dtype=object),\n",
       " <BarContainer object of 21 artists>)"
      ]
     },
     "execution_count": 115,
     "metadata": {},
     "output_type": "execute_result"
    },
    {
     "data": {
      "image/png": "[encoded data removed]",
      "text/plain": [
       "<Figure size 432x288 with 1 Axes>"
      ]
     },
     "metadata": {
      "needs_background": "light"
     },
     "output_type": "display_data"
    }
   ],
   "source": [
    "plt.hist(df_filtered[\"Freq_Idx_Zipf\"], bins=21)"
   ]
  },
  {
   "cell_type": "code",
   "execution_count": 120,
   "metadata": {},
   "outputs": [
    {
     "data": {
      "text/plain": [
       "4.613064516129029"
      ]
     },
     "execution_count": 120,
     "metadata": {},
     "output_type": "execute_result"
    }
   ],
   "source": [
    "trimmed_dist = stats.trim1(df_filtered[\"Freq_Idx_Zipf\"].values, 0.33, tail='left')\n",
    "min(trimmed_dist)"
   ]
  },
  {
   "cell_type": "code",
   "execution_count": 121,
   "metadata": {},
   "outputs": [
    {
     "data": {
      "text/plain": [
       "(11252, 9)"
      ]
     },
     "execution_count": 121,
     "metadata": {},
     "output_type": "execute_result"
    }
   ],
   "source": [
    "crit = min(stats.trim1(df_filtered[\"Freq_Idx_Zipf\"].values, 0.33, tail='left'))\n",
    "df_filtered2 = df_filtered.loc[df_filtered[\"Freq_Idx_Zipf\"] > crit]\n",
    "df_filtered2.shape"
   ]
  },
  {
   "cell_type": "code",
   "execution_count": 122,
   "metadata": {},
   "outputs": [],
   "source": [
    "pickle_it(df_filtered2, \"df_filtered2.pkl\")"
   ]
  },
  {
   "cell_type": "code",
   "execution_count": null,
   "metadata": {},
   "outputs": [],
   "source": []
  },
  {
   "cell_type": "code",
   "execution_count": 129,
   "metadata": {},
   "outputs": [],
   "source": [
    "# Read a Document from a filename, tagging each document w a supplied tag list\n",
    "corpus = []\n",
    "for index, row in df_filtered2.iterrows():\n",
    "    # send that through the datacleaner & tokenize it\n",
    "    tokens = gensim.utils.simple_preprocess(dataclean(row['Text']))\n",
    "    # For training data, add a list of tags, such as, say, the name of the document \n",
    "    corpus.append(gensim.models.doc2vec.TaggedDocument(tokens, [row['Doc']]))\n",
    "\n",
    "pickle_it(corpus, \"jfk_corpus.pkl\")\n",
    "\n",
    "# model = gensim.models.doc2vec.Doc2Vec(documents=corpus, vector_size=400, min_count=10, epochs=40)\n",
    "# pickle_it(model, \"jfk_model.pkl\")"
   ]
  },
  {
   "cell_type": "code",
   "execution_count": 142,
   "metadata": {},
   "outputs": [],
   "source": [
    "with open(\"Corpus/docid-33060064.txt\", encoding=\"UTF-8\") as f:\n",
    "    docid_33060064 = f.read()\n",
    "\n",
    "toks = []\n",
    "freqs = []\n",
    "for tok in tokenize(docid_33060064, 'en'):\n",
    "    toks.append(tok)\n",
    "    freqs.append(zipf_frequency(tok, 'en'))"
   ]
  },
  {
   "cell_type": "code",
   "execution_count": 144,
   "metadata": {},
   "outputs": [
    {
     "name": "stdout",
     "output_type": "stream",
     "text": [
      "306, 5.05042483660131, 4.889607843137256\n",
      "['date', '07', '30', '98', '2', 'page', '1', 'jfk', 'assassination', 'system', 'identification', 'form', 'agency', 'information', 'fbi', '124', '90090', '10038', 'agency', 'record', 'number', 'records', 'series', 'hq', 'june', 'mail', 'agency', 'file', 'number', 'cr', 'see', 'title', 'document', 'information', 'originator', 'national', 'security', 'agency', 'from', 'nsa', 'to', 'title', 'restricted', 'date', '04', '01', '60', 'pages', '1', 'subjects', 'rolando', 'masferrer', 'document', 'type', 'paper', 'textual', 'document', 'classification', 'top', 'secret', 'restrictions', '1b', 'date', 'of', 'last', 'review', '07', '30', '98', 'opening', 'criteria', 'indefinite', 'approval', 'of', 'nsa', 'current', 'status', 'released', 'with', 'deletions', 'comments', 'memo', 'hw', '56897', 'docid', '33060064', 'page', '2', 'jfk', 'assassination', 'system', 'date', '4', '11', '2014', 'identification', 'form', 'agency', 'information', 'agency', 'fbi', 'record', 'number', '_', '124', '90090', '10038', 'record', 'series', 'hq', 'june', 'mail', 'agency', 'filenumber', 'cr', 'see', 'title', 'fe', 'ee', 'ie', 'eide', 'ssiiiiseisiieessiisssissssssessss', 'et', 'document', 'information', 'originator', 'national', 'security', 'agency', 'from', 'nsa', 'to', 'title', 'restricted', 'date', '04', '01', '1960', 'pages', '1', 'subjects', 'rolando', 'masferrer', 'document', 'type', 'paper', 'textual', 'document', '4', 'classification', 'top', 'secret', 'restrictions', '1b', 'current', 'status', 'redact', 'date', 'of', 'lastreview', '07', '30', '1998', 'opening', 'criteria', 'indefinite', 'approval', 'of', 'nsa', 'comments', 'memo', 'vol', '6', 'hw', '56897', 'docid', '33060064', 'page', '1', '3', 'efaggirse', '1', '69', 'c153', '2,0', 'i', 'apr', '6', 'p', 'tt', '36', 'mar', '21412', '6', '1997', 'please', 'present', 'a', 'demand', 'for', 'the', 'extradition', 'of', 'rqlando', 'mas', 'ferrer', 'documents', 'in', 'this', 'case', 'were', 'sent', 'to', 'your', 'embassy', 'some', 'time', 'ago', 'men', 'np', 'at', 'the', 'same', 'time', 'you', 'will', 'ask', 'for', 'the', 'provisional', 'detent', 'n', 'of', 'masferrer', 'which', 'will', 'not', 'be', 'difficult', 'to', 'obtain', 'since', 'the', 'is', 'reer', 'ferred', 'to', 'as', 'a', 'fugitive', 'on', 'parole', 'who', 'has', 'to', 'report', 'periodically', 'to', 'the', 'proper', 'offices', 'in', 'washington', 'where', 'you', 'should', 'be', 'able', 'to', 'gets', 'pes', 'information', 'acknowledge', 'receipt', 'by', 'cable', 'and', 'let', 'us', 'know', 'the', 'result', 'promptly', 'a', 'cart', 'date', 'gn', 'ini', 'ias', 'ake', '5', 'ms', '974', 'cn', 'wer', 'ti', 'o', 'boa', 'tag', 'on', 'hed', 'fo', 'this', 'document', 'contains', '1']\n",
      "['date', '07', '30', '98', '2', 'page', '1', 'jfk', 'assassination', 'system', 'identification', 'form', 'agency', 'information', 'fbi', '124', '90090', '10038', 'agency', 'record', 'number', 'records', 'series', 'hq', 'june', 'mail', 'agency', 'file', 'number', 'cr', 'see', 'title', 'document', 'information', 'originator', 'national', 'security', 'agency', 'from', 'nsa', 'to', 'title', 'restricted', 'date', '04', '01', '60', 'pages', '1', 'subjects', 'rolando', 'masferrer', 'document', 'type', 'paper', 'textual', 'document', 'classification', 'top', 'secret', 'restrictions', '1b', 'date', 'of', 'last', 'review', '07', '30', '98', 'opening', 'criteria', 'indefinite', 'approval', 'of', 'nsa', 'current', 'status', 'released', 'with', 'deletions', 'comments', 'memo', 'hw', '56897', 'docid', '33060064', 'page', '2', 'jfk', 'assassination', 'system', 'date', '4', '11', '2014', 'identification', 'form', 'agency', 'information', 'agency', 'fbi', 'record', 'number', '_', '124', '90090', '10038', 'record', 'series', 'hq', 'june', 'mail', 'agency', 'filenumber', 'cr', 'see', 'title', 'fe', 'ee', 'ie', 'eide', 'ssiiiiseisiieessiisssissssssessss', 'et', 'document', 'information', 'originator', 'national', 'security', 'agency', 'from', 'nsa', 'to', 'title', 'restricted', 'date', '04', '01', '1960', 'pages', '1', 'subjects', 'rolando', 'masferrer', 'document', 'type', 'paper', 'textual', 'document', '4', 'classification', 'top', 'secret', 'restrictions']\n",
      "[5.22, 6.84, 6.84, 6.84, 6.0, 5.12, 6.0, 3.44, 3.82, 5.56, 4.18, 5.31, 4.87, 5.43, 4.43, 6.26, 4.87, 4.87, 4.87, 5.21, 5.62, 4.9, 5.35, 3.73, 5.21, 4.72, 4.87, 4.75, 5.62, 3.99, 6.1, 5.1, 4.5, 5.43, 2.88, 5.51, 5.2, 4.87, 6.63, 3.86, 7.43, 5.1, 4.19, 5.22, 6.84, 6.84, 6.84, 4.62, 6.0, 4.38, 2.55, 1.27, 4.5, 5.27, 5.07, 3.34, 4.5, 4.18, 5.57, 4.92, 4.31, 3.44, 5.22, 7.4, 5.86, 5.12, 6.84, 6.84, 6.84, 4.94, 4.21, 3.41, 4.5, 7.4, 3.86, 5.27, 4.87, 5.05, 6.85, 2.65, 4.87, 3.81, 3.17, 4.87, 1.19, 3.75, 5.12, 6.0, 3.44, 3.82, 5.56, 5.22, 5.78, 6.84, 6.63, 4.18, 5.31, 4.87, 5.43, 4.87, 4.43, 5.21, 5.62, 4.21, 6.26, 4.87, 4.87, 5.21, 5.35, 3.73, 5.21, 4.72, 4.87, 0.0, 3.99, 6.1, 5.1, 3.9, 3.61, 3.8, 1.94, 0.0, 4.66, 4.5, 5.43, 2.88, 5.51, 5.2, 4.87, 6.63, 3.86, 7.43, 5.1, 4.19, 5.22, 6.84, 6.84, 6.63, 4.62, 6.0, 4.38, 2.55, 1.27, 4.5, 5.27, 5.07, 3.34, 4.5, 5.78, 4.18, 5.57, 4.92, 4.31]\n"
     ]
    }
   ],
   "source": [
    "lf = len(freqs)\n",
    "lft = int(len(freqs) * 0.5)\n",
    "\n",
    "print(f\"{lf}, {sum(freqs) / lf}, {sum(freqs[:-lft]) / lft}\\n{toks}\\n{toks[:-lft]}\\n{freqs[:-lft]}\")"
   ]
  }
 ],
 "metadata": {
  "interpreter": {
   "hash": "d1cb6a2f147d54577edc12bb1bdc8ffacd499c4c62c63077ac5b9cb435fa9b71"
  },
  "kernelspec": {
   "display_name": "Python 3.10.2 ('.venv': venv)",
   "language": "python",
   "name": "python3"
  },
  "language_info": {
   "codemirror_mode": {
    "name": "ipython",
    "version": 3
   },
   "file_extension": ".py",
   "mimetype": "text/x-python",
   "name": "python",
   "nbconvert_exporter": "python",
   "pygments_lexer": "ipython3",
   "version": "3.10.2"
  },
  "orig_nbformat": 4
 },
 "nbformat": 4,
 "nbformat_minor": 2
}
