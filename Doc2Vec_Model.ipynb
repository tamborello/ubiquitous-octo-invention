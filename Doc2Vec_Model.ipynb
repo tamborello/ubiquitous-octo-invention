{
 "cells": [
  {
   "cell_type": "markdown",
   "metadata": {},
   "source": [
    "<h1>Train a Doc2Vec Model on the JFK Assassination Files and Deploy it as an Azure Function Ap</h2>"
   ]
  },
  {
   "cell_type": "code",
   "execution_count": 34,
   "metadata": {},
   "outputs": [],
   "source": [
    "import gensim, logging, os, pickle\n",
    "from utils.dataclean import dataclean\n",
    "from utils.pickle_it import pickle_it\n",
    "from utils.whoopsie import whoopsie"
   ]
  },
  {
   "cell_type": "code",
   "execution_count": 8,
   "metadata": {},
   "outputs": [],
   "source": [
    "# Read a Document from a filename, tagging each document w a supplied tag list\n",
    "def read_a_doc(fname, tags=[None], tokens_only=False):\n",
    "    try:\n",
    "        with open(fname, encoding='utf-8') as f:\n",
    "            doc = f.read()\n",
    "    except Exception as exc:\n",
    "        whoopsie(str(exc))\n",
    "        return None\n",
    "    # send that through the datacleaner \n",
    "    doc = dataclean(doc)\n",
    "    # tokenize the doc\n",
    "    tokens = gensim.utils.simple_preprocess(doc)\n",
    "    if tokens_only:\n",
    "        return tokens\n",
    "    else:\n",
    "        # For training data, add an index tag\n",
    "        return gensim.models.doc2vec.TaggedDocument(tokens, tags)\n",
    "        # Really? The 'tag' is supposed to a be a list of a single integer?"
   ]
  },
  {
   "cell_type": "code",
   "execution_count": 16,
   "metadata": {},
   "outputs": [],
   "source": [
    "def read_corpus (corp_path) :\n",
    "    corpus = []\n",
    "    files = os.listdir(corp_path)\n",
    "    n = len(files)\n",
    "    for i in range(0, n):\n",
    "        fn = files[i]\n",
    "        try:\n",
    "            tdoc = read_a_doc(corp_path + \"/\" + fn, tags=[fn[:-4]])\n",
    "        except Exception as exc:\n",
    "            whoopsie(str(exc))\n",
    "        if isinstance(tdoc, gensim.models.doc2vec.TaggedDocument):\n",
    "            corpus.append(tdoc)\n",
    "        if i % 1000 == 0:\n",
    "            print(f\"Reading Corpus: {i} files read.\")\n",
    "    print(f\"Done reading {i} files into the corpus.\")\n",
    "    pickle_it(corpus, 'jfk_corpus.pkl')\n",
    "    print(f\"Done saving corpus.\")\n",
    "    return corpus"
   ]
  },
  {
   "cell_type": "code",
   "execution_count": null,
   "metadata": {},
   "outputs": [],
   "source": [
    "# Load a trimmed corpus here\n",
    "try:\n",
    "    corpus = read_corpus(\"Corpus\")\n",
    "except Exception as exc:\n",
    "    whoopsie(\"Corpus build failure: \" + str(exc))"
   ]
  },
  {
   "cell_type": "code",
   "execution_count": 31,
   "metadata": {},
   "outputs": [],
   "source": [
    "with open(\"jfk_corpus.pkl\", \"rb\") as f:\n",
    "    corpus = pickle.load(f)"
   ]
  },
  {
   "cell_type": "code",
   "execution_count": 33,
   "metadata": {},
   "outputs": [
    {
     "name": "stdout",
     "output_type": "stream",
     "text": [
      "Begin training model.\n",
      "Done training model Doc2Vec(dm/m,d400,n5,w5,mc10,s0.001,t3).\n",
      "Done saving model.\n"
     ]
    }
   ],
   "source": [
    "try:\n",
    "    print(\"Begin training model.\")\n",
    "    model = gensim.models.doc2vec.Doc2Vec(documents=corpus, vector_size=400, min_count=10, epochs=40)\n",
    "    print(f\"Done training model {model}.\")\n",
    "except Exception as exc:\n",
    "    whoopsie(\"Model build failure: \" + str(exc))\n",
    "pickle_it(model, \"jfk_model.pkl\")\n",
    "print(\"Done saving model.\")"
   ]
  },
  {
   "cell_type": "markdown",
   "metadata": {},
   "source": [
    "<h2>Query the Model w a Photo Doc</h2>"
   ]
  },
  {
   "cell_type": "code",
   "execution_count": 35,
   "metadata": {},
   "outputs": [],
   "source": [
    "photo_doc = \"a red car parked on grass near a road and trees others outdoor grass vehicle outdoor land vehicle sky wheel transport car red convertible field sunset\""
   ]
  },
  {
   "cell_type": "code",
   "execution_count": 36,
   "metadata": {},
   "outputs": [],
   "source": [
    "sims = model.dv.most_similar(positive=[model.infer_vector(gensim.utils.simple_preprocess(dataclean(photo_doc)))], topn=5)"
   ]
  },
  {
   "cell_type": "code",
   "execution_count": 37,
   "metadata": {},
   "outputs": [
    {
     "data": {
      "text/plain": [
       "[('docid-32273016', 0.4066036343574524),\n",
       " ('docid-32353931', 0.40359169244766235),\n",
       " ('docid-32351674', 0.39982426166534424),\n",
       " ('104-10160-10192', 0.3992921710014343),\n",
       " ('docid-32351663', 0.39185264706611633)]"
      ]
     },
     "execution_count": 37,
     "metadata": {},
     "output_type": "execute_result"
    }
   ],
   "source": [
    "sims"
   ]
  },
  {
   "cell_type": "code",
   "execution_count": 41,
   "metadata": {},
   "outputs": [
    {
     "name": "stdout",
     "output_type": "stream",
     "text": [
      "docid-32355845\n",
      " \n",
      "\n",
      "HW 53199 Docld: 32355845 Page 2 : “ .\n",
      " \n",
      "\n",
      "AGENCY\n",
      "\n",
      "RECORD NUMBER\n",
      "RECORD SERIES\n",
      "AGENCY FILE NUMBER\n",
      "\n",
      "AGENCY ORIGINATOR\n",
      "\n",
      "FROM\n",
      "\n",
      "“a TO\n",
      "TITLE\n",
      "\n",
      "DATE\n",
      "\n",
      "PAGES\n",
      "\n",
      "SUBJECTS\n",
      "\n",
      "DOCUMENT TYPE\n",
      "CLASSIFICATION\n",
      "RESTRICTIONS\n",
      "CURRENT STATUS\n",
      "\n",
      "DATE OF LAST REVIEW\n",
      "COMMENTS\n",
      "\n",
      "\" 80T01357A\n",
      "\n",
      "JFK ASSASSINATION SYSTEM\n",
      "IDENTIFICATION FORM\n",
      "\n",
      "AGENCY INFORMATION Released under the John\n",
      "’ Kennedy\n",
      "CIA ; Kssassination Records\n",
      "104-10098-10176 . ollection Act of 1992\n",
      "JFK : (44 USC 2107 Note).\n",
      "\n",
      "ase#:NU 53199 Date:\n",
      "6-13-2017\n",
      "\n",
      " \n",
      "\n",
      "DOCUMENT INFORMATION\n",
      "\n",
      "CIA\n",
      "\n",
      "COS, MEXICO\n",
      "\n",
      "HEADQUARTERS (CHIEF, ? DIVISION)\n",
      "PROCESSING OF TRAVEL INFORMATION\n",
      "10/18/1963\n",
      "\n",
      "1\n",
      "\n",
      "TRAVEL DATA\n",
      "\n",
      "PAPER\n",
      "SECRET\n",
      "1B\n",
      "RELEASED IN PART PUBLIC - RELEASED WITH DELETIONS\n",
      "06/21/96\n",
      "JFK32 : Fll : 1996.06.21.18:50:58:440100\n",
      "\n",
      "[R] - ITEM IS RESTRICTED 104-10098-10176\n",
      "\n",
      "HW 53199 DocId:32355845 Page 1\n",
      "\n",
      "\n",
      "\n",
      "104-10172-10040\n",
      " \n",
      "\n",
      " \n",
      "\n",
      "104-10172-10040\n",
      "\n",
      " \n",
      "\n",
      " \n",
      "\n",
      "Image Temporarily Not Available\n",
      "\n",
      " \n",
      "\n",
      " \n",
      "\n",
      "\n",
      "\n",
      "docid-32199189\n",
      " \n",
      " \n",
      "\n",
      " \n",
      "\n",
      " \n",
      "\n",
      " \n",
      "\n",
      " \n",
      "\n",
      " \n",
      "\n",
      "AGENCY:\n",
      "RECORD NUMBER:\n",
      "RECORD SERIES:\n",
      "\n",
      "AGENCY FILE NUMBER:\n",
      "\n",
      "JEK A SASSINARION SYSTEM\n",
      "IDENTIFICATION FORM:\n",
      "\n",
      " \n",
      "\n",
      "AGENCY INFORMATION\n",
      "FBI\n",
      "124-10272-10424\n",
      "SF\n",
      "\n",
      "89-58-360. 361\n",
      "\n",
      "DOCUMENT INFORMATION\n",
      "\n",
      "ORIGINATOR: FBI\n",
      "\n",
      "FROM:\n",
      "\n",
      "SAC. SF\n",
      "\n",
      "TO: DIRECTOR. FBI\n",
      "\n",
      "TITLE:\n",
      "\n",
      "DATE:\n",
      "\n",
      " \n",
      "\n",
      "PAGES: 4\n",
      "SEE FBI 105-82555-4305\n",
      "\n",
      "SUBJECT:\n",
      "\n",
      "DOCUMENT. TYPE:\n",
      "\n",
      "05/26/1964\n",
      "\n",
      "PAPER. TEXTUAL DOCUMENT\n",
      "\n",
      "Released under the John\n",
      ". Kennedy\n",
      "kasagsination Records\n",
      "ollection Act of 1992\n",
      "\n",
      "(44 USC 2107 Note).\n",
      "ases#i Nl 53932 Date:\n",
      "Hs-15-2017\n",
      "\n",
      " \n",
      "\n",
      "ORIGINAL Unclassified “NEW\n",
      "CLASSIFICATION: CLASSIFICATION:\n",
      "REVIEW DATE: — 07/23/1996 UPDATE DATE: 02/14/2001\n",
      "STATUS _ Redact ;\n",
      "RESTRICTIONS:\n",
      "_ SEK Act 6 (4)\n",
      "COMMENTS: INC LHM, A/T ;\n",
      "\n",
      "HW 53932\n",
      "\n",
      "DocId: 32199189\n",
      "\n",
      "Page 1\n",
      "\n",
      "\n",
      "\n",
      "104-10418-10265\n",
      "Image Temporarily Not Available\n",
      "\n",
      " \n",
      " \n",
      "\n",
      " \n",
      "\n",
      "104-10418-10265\n",
      "\n",
      " \n",
      "\n",
      " \n",
      "\n",
      "Image Temporarily Not Available\n",
      "\n",
      " \n",
      "Image Temporarily Not Available\n",
      "\n",
      " \n",
      "Image Temporarily Not Available\n",
      "\n",
      " \n",
      "\n",
      "\n",
      "\n",
      "104-10185-10094\n",
      " \n",
      "\n",
      "104-10185-10094\n",
      "\n",
      " \n",
      "\n",
      "Embassy an nexico city.\n",
      "1964, a\n",
      "\n",
      " \n",
      "\n",
      "\n",
      "\n"
     ]
    }
   ],
   "source": [
    "for sim in sims:\n",
    "    with open(\"Corpus\" + \"/\" + sim[0] + \".txt\", encoding=\"utf-8\") as f:\n",
    "        print(f\"{sim[0]}\\n{f.read()}\\n\\n\")"
   ]
  },
  {
   "cell_type": "code",
   "execution_count": 39,
   "metadata": {},
   "outputs": [
    {
     "name": "stderr",
     "output_type": "stream",
     "text": [
      "C:\\Users\\ftamborello\\AppData\\Local\\Temp\\ipykernel_73168\\2278077069.py:6: DeprecationWarning: Call to deprecated `docvecs` (The `docvecs` property has been renamed `dv`.).\n",
      "  docSims.append(model.docvecs.most_similar([inferred_vector], topn=1))\n"
     ]
    },
    {
     "name": "stdout",
     "output_type": "stream",
     "text": [
      "Model: Doc2Vec(dm/m,d400,n5,w5,mc10,s0.001,t3), Accuracy: 0.995\n",
      "\n"
     ]
    }
   ],
   "source": [
    "docSims = []\n",
    "# docSims is a doc_id-indexed list of top 10 most similar tuples, where the first is the doc's ID and the second is its similarity score to the queried doc.\n",
    "# Careful! model.most_similar apparently maps to words, while model.docvecs.most_similar maps to documents!\n",
    "for doc_id in range(len(corpus)):\n",
    "    inferred_vector = model.infer_vector(corpus[doc_id].words)\n",
    "    docSims.append(model.dv.most_similar([inferred_vector], topn=1))\n",
    "\n",
    "pickle_it(docSims, 'docSims.pkl')\n",
    "\n",
    "# How often is the first-most similar doc the same doc?\n",
    "firstSims = list()\n",
    "for i in range(0, len(corpus)):\n",
    "    # Is the doc sim at i equal to \n",
    "    firstSims.append(docSims[i][0][0]==corpus[i].tags[0])\n",
    "# print(f\"vecSize: {vecSize}, minCount: {minCount}, numEpochs: {numEpochs}, Accuracy: {round(sum(firstSims)/len(docs), 3)}\\n\")\n",
    "print(f\"Model: {model}, Accuracy: {round(sum(firstSims)/len(corpus), 3)}\\n\")\n"
   ]
  },
  {
   "cell_type": "code",
   "execution_count": 43,
   "metadata": {},
   "outputs": [
    {
     "data": {
      "text/plain": [
       "[('docid-33060064', 0.5931869149208069),\n",
       " ('104-10071-10255', 0.3542172610759735),\n",
       " ('docid-32202071', 0.3445645868778229),\n",
       " ('104-10185-10094', 0.34139484167099),\n",
       " ('docid-32308878', 0.3325188457965851)]"
      ]
     },
     "execution_count": 43,
     "metadata": {},
     "output_type": "execute_result"
    }
   ],
   "source": [
    "test_doc = \"Please present a demand for the extradition of Rolando Masferrer. Documents in this case were sent to your embassy some time agao. At the same time, you will ask for the provisional detention of Masferrer, which will not be difficult to obtain since he is referred to as a fugitive on parole who has to report periodically to the proper offices in Washington, where you should be able to get information. Acknowledge receipt by cable and let us know the result promptly.\"\n",
    "sims = model.dv.most_similar(positive=[model.infer_vector(gensim.utils.simple_preprocess(dataclean(test_doc)))], topn=5)\n",
    "sims"
   ]
  },
  {
   "cell_type": "code",
   "execution_count": 47,
   "metadata": {},
   "outputs": [],
   "source": []
  },
  {
   "cell_type": "code",
   "execution_count": null,
   "metadata": {},
   "outputs": [],
   "source": []
  }
 ],
 "metadata": {
  "interpreter": {
   "hash": "d986285629ceab87759b8909071c4264024d8b334be9754534dafa9c85ac3856"
  },
  "kernelspec": {
   "display_name": "Python 3.8.8 64-bit ('.venv': venv)",
   "language": "python",
   "name": "python3"
  },
  "language_info": {
   "codemirror_mode": {
    "name": "ipython",
    "version": 3
   },
   "file_extension": ".py",
   "mimetype": "text/x-python",
   "name": "python",
   "nbconvert_exporter": "python",
   "pygments_lexer": "ipython3",
   "version": "3.8.8"
  },
  "orig_nbformat": 4
 },
 "nbformat": 4,
 "nbformat_minor": 2
}
