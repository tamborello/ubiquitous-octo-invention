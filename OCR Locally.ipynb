{
 "cells": [
  {
   "cell_type": "markdown",
   "metadata": {},
   "source": [
    "<h1>OCR Locally</h2>\n",
    "Extract images"
   ]
  },
  {
   "cell_type": "code",
   "execution_count": 31,
   "metadata": {},
   "outputs": [],
   "source": [
    "from pdf2image import convert_from_path\n",
    "import os, pickle\n",
    "from utils.whoopsie import whoopsie\n",
    "from utils.pickle_it import pickle_it\n",
    "\n",
    "from pdf2image.exceptions import (\n",
    " PDFInfoNotInstalledError,\n",
    " PDFPageCountError,\n",
    " PDFSyntaxError\n",
    ")\n",
    "\n",
    "try:\n",
    "    from PIL import Image\n",
    "except ImportError:\n",
    "    import Image\n",
    "import pytesseract"
   ]
  },
  {
   "cell_type": "code",
   "execution_count": 13,
   "metadata": {},
   "outputs": [
    {
     "data": {
      "text/plain": [
       "'104-10093-10341'"
      ]
     },
     "execution_count": 13,
     "metadata": {},
     "output_type": "execute_result"
    }
   ],
   "source": [
    "texts_dumped = os.listdir(\"docs/2018_txt_dump/\")\n",
    "for i in range(0, len(texts_dumped)):\n",
    "    texts_dumped[i] = texts_dumped[i][:-4]\n",
    "texts_dumped[0]"
   ]
  },
  {
   "cell_type": "code",
   "execution_count": 15,
   "metadata": {},
   "outputs": [
    {
     "data": {
      "text/plain": [
       "'104-10146-10021'"
      ]
     },
     "execution_count": 15,
     "metadata": {},
     "output_type": "execute_result"
    }
   ],
   "source": [
    "batch1 = os.listdir(\"docs/2018\")\n",
    "for i in range(0, len(batch1)):\n",
    "    batch1[i] = batch1[i][:-4]\n",
    "batch1[0]"
   ]
  },
  {
   "cell_type": "code",
   "execution_count": 16,
   "metadata": {},
   "outputs": [
    {
     "data": {
      "text/plain": [
       "3937"
      ]
     },
     "execution_count": 16,
     "metadata": {},
     "output_type": "execute_result"
    }
   ],
   "source": [
    "texts_not_dumped = [itm for itm in batch1 if itm not in texts_dumped]\n",
    "len(texts_not_dumped)"
   ]
  },
  {
   "cell_type": "code",
   "execution_count": 22,
   "metadata": {},
   "outputs": [
    {
     "data": {
      "text/plain": [
       "['jfk army record # 194-10003-10422',\n",
       " 'jfk army record # 194-10003-10421',\n",
       " 'jfk army record # 194-10003-10391',\n",
       " 'jfk army record # 194-10003-10420',\n",
       " 'jfk army record # 194-10003-10408',\n",
       " 'jfk army record # 194-10012-10139',\n",
       " 'jfk army record # 194-10002-10223',\n",
       " 'jfk army record # 194-10010-10422',\n",
       " 'jfk army record # 194-10010-10421',\n",
       " 'jfk army record # 194-10008-10121',\n",
       " 'jfk army record # 194-10003-10260',\n",
       " 'jfk army record # 194-10001-10431',\n",
       " 'jfk army record # 194-10001-10432',\n",
       " 'docid-32423575',\n",
       " '104-10051-10173',\n",
       " '104-10048-10010']"
      ]
     },
     "execution_count": 22,
     "metadata": {},
     "output_type": "execute_result"
    }
   ],
   "source": [
    "texts_not_dumped[4:20]"
   ]
  },
  {
   "cell_type": "code",
   "execution_count": 28,
   "metadata": {},
   "outputs": [],
   "source": [
    "def extract_imgs (filename) :\n",
    "\n",
    "    # The first 10 pages of each document will be plenty\n",
    "    images = convert_from_path('docs2/' + filename)[:10]\n",
    "\n",
    "    os.mkdir('batch2processing/img_dump/' + filename[:-4])\n",
    "\n",
    "    for i, image in enumerate(images):\n",
    "        fname = \"batch2processing/img_dump/\" + filename[:-4] + \"/image\" + str(i) + \".png\"\n",
    "        image.save(fname, \"PNG\")\n"
   ]
  },
  {
   "cell_type": "code",
   "execution_count": 29,
   "metadata": {},
   "outputs": [],
   "source": [
    "def ocr_doc (basedir, dir) :\n",
    "    doc = ''\n",
    "    \n",
    "    for img in os.listdir(basedir + dir):\n",
    "        doc = doc + pytesseract.image_to_string(Image.open(basedir + dir + '/' + img))\n",
    "\n",
    "    with open('batch2processing/txt_dump/' + dir + '.txt', 'w') as f:\n",
    "        f.write(doc)"
   ]
  },
  {
   "cell_type": "code",
   "execution_count": 30,
   "metadata": {},
   "outputs": [
    {
     "name": "stdout",
     "output_type": "stream",
     "text": [
      "Unable to get page count.\n",
      "Syntax Warning: May not be a PDF file (continuing anyway)\n",
      "Syntax Error: Couldn't find trailer dictionary\n",
      "Syntax Error: Couldn't find trailer dictionary\n",
      "Syntax Error: Couldn't read xref table\n",
      "\n",
      "Unable to get page count.\n",
      "Syntax Warning: May not be a PDF file (continuing anyway)\n",
      "Syntax Error: Couldn't find trailer dictionary\n",
      "Syntax Error: Couldn't find trailer dictionary\n",
      "Syntax Error: Couldn't read xref table\n",
      "\n",
      "Unable to get page count.\n",
      "Syntax Warning: May not be a PDF file (continuing anyway)\n",
      "Syntax Error: Couldn't find trailer dictionary\n",
      "Syntax Error: Couldn't find trailer dictionary\n",
      "Syntax Error: Couldn't read xref table\n",
      "\n",
      "Unable to get page count.\n",
      "Syntax Warning: May not be a PDF file (continuing anyway)\n",
      "Syntax Error (2): Illegal character <3f> in hex string\n",
      "Syntax Error (3): Illegal character <78> in hex string\n",
      "Syntax Error (4): Illegal character <6d> in hex string\n",
      "Syntax Error (5): Illegal character <6c> in hex string\n",
      "Syntax Error (7): Illegal character <76> in hex string\n",
      "Syntax Error (9): Illegal character <72> in hex string\n",
      "Syntax Error (10): Illegal character <73> in hex string\n",
      "Syntax Error (11): Illegal character <69> in hex string\n",
      "Syntax Error (12): Illegal character <6f> in hex string\n",
      "Syntax Error (13): Illegal character <6e> in hex string\n",
      "Syntax Error (14): Illegal character <3d> in hex string\n",
      "Syntax Error (15): Illegal character <22> in hex string\n",
      "Syntax Error (17): Illegal character <2e> in hex string\n",
      "Syntax Error (19): Illegal character <22> in hex string\n",
      "Syntax Error (22): Illegal character <6e> in hex string\n",
      "Syntax Error (24): Illegal character <6f> in hex string\n",
      "Syntax Error (26): Illegal character <69> in hex string\n",
      "Syntax Error (27): Illegal character <6e> in hex string\n",
      "Syntax Error (28): Illegal character <67> in hex string\n",
      "Syntax Error (29): Illegal character <3d> in hex string\n",
      "Syntax Error (30): Illegal character <22> in hex string\n",
      "Syntax Error (31): Illegal character <55> in hex string\n",
      "Syntax Error (32): Illegal character <54> in hex string\n",
      "Syntax Error (34): Illegal character <2d> in hex string\n",
      "Syntax Error (36): Illegal character <22> in hex string\n",
      "Syntax Error (37): Illegal character <3f> in hex string\n",
      "Syntax Error (42): Illegal character <72> in hex string\n",
      "Syntax Error (43): Illegal character <72> in hex string\n",
      "Syntax Error (44): Illegal character <6f> in hex string\n",
      "Syntax Error (45): Illegal character <72> in hex string\n",
      "Syntax Error (49): Illegal character <6f> in hex string\n",
      "Syntax Error (66): Illegal character <2f> in hex string\n",
      "Syntax Error (68): Illegal character <6f> in hex string\n",
      "Syntax Error (73): Illegal character <4d> in hex string\n",
      "Syntax Error (75): Illegal character <73> in hex string\n",
      "Syntax Error (76): Illegal character <73> in hex string\n",
      "Syntax Error (78): Illegal character <67> in hex string\n",
      "Syntax Error: Couldn't find trailer dictionary\n",
      "Syntax Error: Couldn't find trailer dictionary\n",
      "Syntax Error: Couldn't read xref table\n",
      "\n",
      "Unable to get page count.\n",
      "Syntax Warning: May not be a PDF file (continuing anyway)\n",
      "Syntax Error (2): Illegal character <3f> in hex string\n",
      "Syntax Error (3): Illegal character <78> in hex string\n",
      "Syntax Error (4): Illegal character <6d> in hex string\n",
      "Syntax Error (5): Illegal character <6c> in hex string\n",
      "Syntax Error (7): Illegal character <76> in hex string\n",
      "Syntax Error (9): Illegal character <72> in hex string\n",
      "Syntax Error (10): Illegal character <73> in hex string\n",
      "Syntax Error (11): Illegal character <69> in hex string\n",
      "Syntax Error (12): Illegal character <6f> in hex string\n",
      "Syntax Error (13): Illegal character <6e> in hex string\n",
      "Syntax Error (14): Illegal character <3d> in hex string\n",
      "Syntax Error (15): Illegal character <22> in hex string\n",
      "Syntax Error (17): Illegal character <2e> in hex string\n",
      "Syntax Error (19): Illegal character <22> in hex string\n",
      "Syntax Error (22): Illegal character <6e> in hex string\n",
      "Syntax Error (24): Illegal character <6f> in hex string\n",
      "Syntax Error (26): Illegal character <69> in hex string\n",
      "Syntax Error (27): Illegal character <6e> in hex string\n",
      "Syntax Error (28): Illegal character <67> in hex string\n",
      "Syntax Error (29): Illegal character <3d> in hex string\n",
      "Syntax Error (30): Illegal character <22> in hex string\n",
      "Syntax Error (31): Illegal character <55> in hex string\n",
      "Syntax Error (32): Illegal character <54> in hex string\n",
      "Syntax Error (34): Illegal character <2d> in hex string\n",
      "Syntax Error (36): Illegal character <22> in hex string\n",
      "Syntax Error (37): Illegal character <3f> in hex string\n",
      "Syntax Error (42): Illegal character <72> in hex string\n",
      "Syntax Error (43): Illegal character <72> in hex string\n",
      "Syntax Error (44): Illegal character <6f> in hex string\n",
      "Syntax Error (45): Illegal character <72> in hex string\n",
      "Syntax Error (49): Illegal character <6f> in hex string\n",
      "Syntax Error (66): Illegal character <2f> in hex string\n",
      "Syntax Error (68): Illegal character <6f> in hex string\n",
      "Syntax Error (73): Illegal character <4d> in hex string\n",
      "Syntax Error (75): Illegal character <73> in hex string\n",
      "Syntax Error (76): Illegal character <73> in hex string\n",
      "Syntax Error (78): Illegal character <67> in hex string\n",
      "Syntax Error: Couldn't find trailer dictionary\n",
      "Syntax Error: Couldn't find trailer dictionary\n",
      "Syntax Error: Couldn't read xref table\n",
      "\n",
      "Unable to get page count.\n",
      "Syntax Warning: May not be a PDF file (continuing anyway)\n",
      "Syntax Error (2): Illegal character <3f> in hex string\n",
      "Syntax Error (3): Illegal character <78> in hex string\n",
      "Syntax Error (4): Illegal character <6d> in hex string\n",
      "Syntax Error (5): Illegal character <6c> in hex string\n",
      "Syntax Error (7): Illegal character <76> in hex string\n",
      "Syntax Error (9): Illegal character <72> in hex string\n",
      "Syntax Error (10): Illegal character <73> in hex string\n",
      "Syntax Error (11): Illegal character <69> in hex string\n",
      "Syntax Error (12): Illegal character <6f> in hex string\n",
      "Syntax Error (13): Illegal character <6e> in hex string\n",
      "Syntax Error (14): Illegal character <3d> in hex string\n",
      "Syntax Error (15): Illegal character <22> in hex string\n",
      "Syntax Error (17): Illegal character <2e> in hex string\n",
      "Syntax Error (19): Illegal character <22> in hex string\n",
      "Syntax Error (22): Illegal character <6e> in hex string\n",
      "Syntax Error (24): Illegal character <6f> in hex string\n",
      "Syntax Error (26): Illegal character <69> in hex string\n",
      "Syntax Error (27): Illegal character <6e> in hex string\n",
      "Syntax Error (28): Illegal character <67> in hex string\n",
      "Syntax Error (29): Illegal character <3d> in hex string\n",
      "Syntax Error (30): Illegal character <22> in hex string\n",
      "Syntax Error (31): Illegal character <55> in hex string\n",
      "Syntax Error (32): Illegal character <54> in hex string\n",
      "Syntax Error (34): Illegal character <2d> in hex string\n",
      "Syntax Error (36): Illegal character <22> in hex string\n",
      "Syntax Error (37): Illegal character <3f> in hex string\n",
      "Syntax Error (42): Illegal character <72> in hex string\n",
      "Syntax Error (43): Illegal character <72> in hex string\n",
      "Syntax Error (44): Illegal character <6f> in hex string\n",
      "Syntax Error (45): Illegal character <72> in hex string\n",
      "Syntax Error (49): Illegal character <6f> in hex string\n",
      "Syntax Error (66): Illegal character <2f> in hex string\n",
      "Syntax Error (68): Illegal character <6f> in hex string\n",
      "Syntax Error (73): Illegal character <4d> in hex string\n",
      "Syntax Error (75): Illegal character <73> in hex string\n",
      "Syntax Error (76): Illegal character <73> in hex string\n",
      "Syntax Error (78): Illegal character <67> in hex string\n",
      "Syntax Error: Couldn't find trailer dictionary\n",
      "Syntax Error: Couldn't find trailer dictionary\n",
      "Syntax Error: Couldn't read xref table\n",
      "\n"
     ]
    },
    {
     "ename": "KeyboardInterrupt",
     "evalue": "",
     "output_type": "error",
     "traceback": [
      "\u001b[0;31m---------------------------------------------------------------------------\u001b[0m",
      "\u001b[0;31mKeyboardInterrupt\u001b[0m                         Traceback (most recent call last)",
      "\u001b[1;32m/Users/frank/Documents/Reverent%20Galileo/OCR Locally.ipynb Cell 9'\u001b[0m in \u001b[0;36m<module>\u001b[0;34m\u001b[0m\n\u001b[1;32m      <a href='vscode-notebook-cell:/Users/frank/Documents/Reverent%2520Galileo/OCR%20Locally.ipynb#ch0000004?line=0'>1</a>\u001b[0m \u001b[39mfor\u001b[39;00m pdf \u001b[39min\u001b[39;00m os\u001b[39m.\u001b[39mlistdir(\u001b[39m'\u001b[39m\u001b[39mdocs2\u001b[39m\u001b[39m'\u001b[39m):\n\u001b[1;32m      <a href='vscode-notebook-cell:/Users/frank/Documents/Reverent%2520Galileo/OCR%20Locally.ipynb#ch0000004?line=1'>2</a>\u001b[0m \u001b[39m# for pdf in texts_not_dumped:\u001b[39;00m\n\u001b[1;32m      <a href='vscode-notebook-cell:/Users/frank/Documents/Reverent%2520Galileo/OCR%20Locally.ipynb#ch0000004?line=2'>3</a>\u001b[0m     \u001b[39mtry\u001b[39;00m:\n\u001b[0;32m----> <a href='vscode-notebook-cell:/Users/frank/Documents/Reverent%2520Galileo/OCR%20Locally.ipynb#ch0000004?line=3'>4</a>\u001b[0m         extract_imgs(pdf)\n\u001b[1;32m      <a href='vscode-notebook-cell:/Users/frank/Documents/Reverent%2520Galileo/OCR%20Locally.ipynb#ch0000004?line=4'>5</a>\u001b[0m         ocr_doc(\u001b[39m'\u001b[39m\u001b[39mbatch2processing/img_dump/\u001b[39m\u001b[39m'\u001b[39m, pdf[:\u001b[39m-\u001b[39m\u001b[39m4\u001b[39m])\n\u001b[1;32m      <a href='vscode-notebook-cell:/Users/frank/Documents/Reverent%2520Galileo/OCR%20Locally.ipynb#ch0000004?line=5'>6</a>\u001b[0m     \u001b[39mexcept\u001b[39;00m \u001b[39mException\u001b[39;00m \u001b[39mas\u001b[39;00m exc:\n",
      "\u001b[1;32m/Users/frank/Documents/Reverent%20Galileo/OCR Locally.ipynb Cell 7'\u001b[0m in \u001b[0;36mextract_imgs\u001b[0;34m(filename)\u001b[0m\n\u001b[1;32m      <a href='vscode-notebook-cell:/Users/frank/Documents/Reverent%2520Galileo/OCR%20Locally.ipynb#ch0000002?line=0'>1</a>\u001b[0m \u001b[39mdef\u001b[39;00m \u001b[39mextract_imgs\u001b[39m (filename) :\n\u001b[1;32m      <a href='vscode-notebook-cell:/Users/frank/Documents/Reverent%2520Galileo/OCR%20Locally.ipynb#ch0000002?line=1'>2</a>\u001b[0m \n\u001b[1;32m      <a href='vscode-notebook-cell:/Users/frank/Documents/Reverent%2520Galileo/OCR%20Locally.ipynb#ch0000002?line=2'>3</a>\u001b[0m     \u001b[39m# The first 10 pages of each document will be plenty\u001b[39;00m\n\u001b[0;32m----> <a href='vscode-notebook-cell:/Users/frank/Documents/Reverent%2520Galileo/OCR%20Locally.ipynb#ch0000002?line=3'>4</a>\u001b[0m     images \u001b[39m=\u001b[39m convert_from_path(\u001b[39m'\u001b[39;49m\u001b[39mdocs2/\u001b[39;49m\u001b[39m'\u001b[39;49m \u001b[39m+\u001b[39;49m filename)[:\u001b[39m10\u001b[39m]\n\u001b[1;32m      <a href='vscode-notebook-cell:/Users/frank/Documents/Reverent%2520Galileo/OCR%20Locally.ipynb#ch0000002?line=5'>6</a>\u001b[0m     os\u001b[39m.\u001b[39mmkdir(\u001b[39m'\u001b[39m\u001b[39mbatch2processing/img_dump/\u001b[39m\u001b[39m'\u001b[39m \u001b[39m+\u001b[39m filename[:\u001b[39m-\u001b[39m\u001b[39m4\u001b[39m])\n\u001b[1;32m      <a href='vscode-notebook-cell:/Users/frank/Documents/Reverent%2520Galileo/OCR%20Locally.ipynb#ch0000002?line=7'>8</a>\u001b[0m     \u001b[39mfor\u001b[39;00m i, image \u001b[39min\u001b[39;00m \u001b[39menumerate\u001b[39m(images):\n",
      "File \u001b[0;32m~/Documents/Reverent%20Galileo/.venv/lib/python3.10/site-packages/pdf2image/pdf2image.py:208\u001b[0m, in \u001b[0;36mconvert_from_path\u001b[0;34m(pdf_path, dpi, output_folder, first_page, last_page, fmt, jpegopt, thread_count, userpw, use_cropbox, strict, transparent, single_file, output_file, poppler_path, grayscale, size, paths_only, use_pdftocairo, timeout, hide_annotations)\u001b[0m\n\u001b[1;32m    <a href='file:///~/Documents/Reverent%2520Galileo/.venv/lib/python3.10/site-packages/pdf2image/pdf2image.py?line=205'>206</a>\u001b[0m \u001b[39mfor\u001b[39;00m uid, proc \u001b[39min\u001b[39;00m processes:\n\u001b[1;32m    <a href='file:///~/Documents/Reverent%2520Galileo/.venv/lib/python3.10/site-packages/pdf2image/pdf2image.py?line=206'>207</a>\u001b[0m     \u001b[39mtry\u001b[39;00m:\n\u001b[0;32m--> <a href='file:///~/Documents/Reverent%2520Galileo/.venv/lib/python3.10/site-packages/pdf2image/pdf2image.py?line=207'>208</a>\u001b[0m         data, err \u001b[39m=\u001b[39m proc\u001b[39m.\u001b[39;49mcommunicate(timeout\u001b[39m=\u001b[39;49mtimeout)\n\u001b[1;32m    <a href='file:///~/Documents/Reverent%2520Galileo/.venv/lib/python3.10/site-packages/pdf2image/pdf2image.py?line=208'>209</a>\u001b[0m     \u001b[39mexcept\u001b[39;00m TimeoutExpired:\n\u001b[1;32m    <a href='file:///~/Documents/Reverent%2520Galileo/.venv/lib/python3.10/site-packages/pdf2image/pdf2image.py?line=209'>210</a>\u001b[0m         proc\u001b[39m.\u001b[39mkill()\n",
      "File \u001b[0;32m/Library/Frameworks/Python.framework/Versions/3.10/lib/python3.10/subprocess.py:1149\u001b[0m, in \u001b[0;36mPopen.communicate\u001b[0;34m(self, input, timeout)\u001b[0m\n\u001b[1;32m   <a href='file:///Library/Frameworks/Python.framework/Versions/3.10/lib/python3.10/subprocess.py?line=1145'>1146</a>\u001b[0m     endtime \u001b[39m=\u001b[39m \u001b[39mNone\u001b[39;00m\n\u001b[1;32m   <a href='file:///Library/Frameworks/Python.framework/Versions/3.10/lib/python3.10/subprocess.py?line=1147'>1148</a>\u001b[0m \u001b[39mtry\u001b[39;00m:\n\u001b[0;32m-> <a href='file:///Library/Frameworks/Python.framework/Versions/3.10/lib/python3.10/subprocess.py?line=1148'>1149</a>\u001b[0m     stdout, stderr \u001b[39m=\u001b[39m \u001b[39mself\u001b[39;49m\u001b[39m.\u001b[39;49m_communicate(\u001b[39minput\u001b[39;49m, endtime, timeout)\n\u001b[1;32m   <a href='file:///Library/Frameworks/Python.framework/Versions/3.10/lib/python3.10/subprocess.py?line=1149'>1150</a>\u001b[0m \u001b[39mexcept\u001b[39;00m \u001b[39mKeyboardInterrupt\u001b[39;00m:\n\u001b[1;32m   <a href='file:///Library/Frameworks/Python.framework/Versions/3.10/lib/python3.10/subprocess.py?line=1150'>1151</a>\u001b[0m     \u001b[39m# https://bugs.python.org/issue25942\u001b[39;00m\n\u001b[1;32m   <a href='file:///Library/Frameworks/Python.framework/Versions/3.10/lib/python3.10/subprocess.py?line=1151'>1152</a>\u001b[0m     \u001b[39m# See the detailed comment in .wait().\u001b[39;00m\n\u001b[1;32m   <a href='file:///Library/Frameworks/Python.framework/Versions/3.10/lib/python3.10/subprocess.py?line=1152'>1153</a>\u001b[0m     \u001b[39mif\u001b[39;00m timeout \u001b[39mis\u001b[39;00m \u001b[39mnot\u001b[39;00m \u001b[39mNone\u001b[39;00m:\n",
      "File \u001b[0;32m/Library/Frameworks/Python.framework/Versions/3.10/lib/python3.10/subprocess.py:2030\u001b[0m, in \u001b[0;36mPopen._communicate\u001b[0;34m(self, input, endtime, orig_timeout)\u001b[0m\n\u001b[1;32m   <a href='file:///Library/Frameworks/Python.framework/Versions/3.10/lib/python3.10/subprocess.py?line=2027'>2028</a>\u001b[0m \u001b[39m# All data exchanged.  Translate lists into strings.\u001b[39;00m\n\u001b[1;32m   <a href='file:///Library/Frameworks/Python.framework/Versions/3.10/lib/python3.10/subprocess.py?line=2028'>2029</a>\u001b[0m \u001b[39mif\u001b[39;00m stdout \u001b[39mis\u001b[39;00m \u001b[39mnot\u001b[39;00m \u001b[39mNone\u001b[39;00m:\n\u001b[0;32m-> <a href='file:///Library/Frameworks/Python.framework/Versions/3.10/lib/python3.10/subprocess.py?line=2029'>2030</a>\u001b[0m     stdout \u001b[39m=\u001b[39m \u001b[39mb\u001b[39;49m\u001b[39m'\u001b[39;49m\u001b[39m'\u001b[39;49m\u001b[39m.\u001b[39;49mjoin(stdout)\n\u001b[1;32m   <a href='file:///Library/Frameworks/Python.framework/Versions/3.10/lib/python3.10/subprocess.py?line=2030'>2031</a>\u001b[0m \u001b[39mif\u001b[39;00m stderr \u001b[39mis\u001b[39;00m \u001b[39mnot\u001b[39;00m \u001b[39mNone\u001b[39;00m:\n\u001b[1;32m   <a href='file:///Library/Frameworks/Python.framework/Versions/3.10/lib/python3.10/subprocess.py?line=2031'>2032</a>\u001b[0m     stderr \u001b[39m=\u001b[39m \u001b[39mb\u001b[39m\u001b[39m'\u001b[39m\u001b[39m'\u001b[39m\u001b[39m.\u001b[39mjoin(stderr)\n",
      "\u001b[0;31mKeyboardInterrupt\u001b[0m: "
     ]
    }
   ],
   "source": [
    "for pdf in os.listdir('docs2'):\n",
    "# for pdf in texts_not_dumped:\n",
    "    try:\n",
    "        extract_imgs(pdf)\n",
    "        ocr_doc('batch2processing/img_dump/', pdf[:-4])\n",
    "    except Exception as exc:\n",
    "        whoopsie(str(exc))"
   ]
  },
  {
   "cell_type": "code",
   "execution_count": 37,
   "metadata": {},
   "outputs": [],
   "source": [
    "# Now that I've stopped the OCR cell after more than 5,300 minutes of execution time,\n",
    "# figure out what's left to OCR\n",
    "docs2 = []\n",
    "ocred = []\n",
    "for doc in os.listdir('docs2'):\n",
    "    docs2.append(doc[:-4])\n",
    "for ocr in os.listdir('batch2processing/txt_dump'):\n",
    "    ocred.append(ocr[:-4])\n",
    "left_to_ocr = [doc for doc in docs2 if doc not in ocred]\n",
    "pickle_it(left_to_ocr, \"left_to_ocr.pkl\")"
   ]
  },
  {
   "cell_type": "code",
   "execution_count": 39,
   "metadata": {},
   "outputs": [
    {
     "name": "stdout",
     "output_type": "stream",
     "text": [
      "docs2: 35665, ocred: 21756, left to ocr: 13899, ocred + left to ocr: 35655\n"
     ]
    }
   ],
   "source": [
    "print(f\"docs2: {len(docs2)}, ocred: {len(ocred)}, left to ocr: {len(left_to_ocr)}, ocred + left to ocr: {len(ocred) + len(left_to_ocr)}\")"
   ]
  },
  {
   "cell_type": "code",
   "execution_count": 42,
   "metadata": {},
   "outputs": [
    {
     "data": {
      "text/plain": [
       "'180-10147-10097'"
      ]
     },
     "execution_count": 42,
     "metadata": {},
     "output_type": "execute_result"
    }
   ],
   "source": [
    "left_to_ocr[2]"
   ]
  }
 ],
 "metadata": {
  "interpreter": {
   "hash": "d986285629ceab87759b8909071c4264024d8b334be9754534dafa9c85ac3856"
  },
  "kernelspec": {
   "display_name": "Python 3.8.8 64-bit ('.venv': venv)",
   "language": "python",
   "name": "python3"
  },
  "language_info": {
   "codemirror_mode": {
    "name": "ipython",
    "version": 3
   },
   "file_extension": ".py",
   "mimetype": "text/x-python",
   "name": "python",
   "nbconvert_exporter": "python",
   "pygments_lexer": "ipython3",
   "version": "3.10.2"
  },
  "orig_nbformat": 4
 },
 "nbformat": 4,
 "nbformat_minor": 2
}
