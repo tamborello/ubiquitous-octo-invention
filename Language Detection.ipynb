{
 "cells": [
  {
   "cell_type": "markdown",
   "metadata": {},
   "source": [
    "<h1>Language Detection</h1>\n",
    "What language is this document? If it's above some threshold for confidence in English then we can trim the distribution of documents to what we're most confident is intelligible English."
   ]
  },
  {
   "cell_type": "code",
   "execution_count": 7,
   "metadata": {},
   "outputs": [],
   "source": [
    "from langdetect import detect_langs"
   ]
  },
  {
   "cell_type": "code",
   "execution_count": 18,
   "metadata": {},
   "outputs": [],
   "source": [
    "with open(\"docs/2018_txt_dump/104-10004-10258.txt\", \"r\") as f:\n",
    "    doc = f.read()"
   ]
  },
  {
   "cell_type": "code",
   "execution_count": 19,
   "metadata": {},
   "outputs": [
    {
     "data": {
      "text/plain": [
       "'13-00000\\n\\n \\n\\n \\n104-10004-10258\\n\\n \\n\\n  \\n \\n\\n \\n\\n \\n\\n \\n\\n \\n\\n \\n\\n \\n\\n4-83\\n\\nNumber =teesomemens\\n\\n      \\n13-00000\\n\\n1 pare ary\\n\\n \\n\\n \\n13-00000\\n\\n \\n\\nBYKIS of the Thirtcexsh:\\n) torate ,” eoeupying the ove\\n3, Becretariat, Rew York City.\\nCity fron Deeenber 2960\" te Fely ¢\\n\\ni $s *gesgzan\\narge Communist: a etat organ uations. |\\n\\nBPSCA » | KOBTIKO :\\noviek we oaai BY, and he’ contac\\n\\n\\' D\\npra\\n\\n \\n\\n \\n'"
      ]
     },
     "execution_count": 19,
     "metadata": {},
     "output_type": "execute_result"
    }
   ],
   "source": [
    "doc"
   ]
  },
  {
   "cell_type": "code",
   "execution_count": 31,
   "metadata": {},
   "outputs": [
    {
     "data": {
      "text/plain": [
       "0.7070010910603663"
      ]
     },
     "execution_count": 31,
     "metadata": {},
     "output_type": "execute_result"
    }
   ],
   "source": [
    "(detect_langs(doc)[0].prob - 0.99999) * 100000"
   ]
  },
  {
   "cell_type": "code",
   "execution_count": 33,
   "metadata": {},
   "outputs": [
    {
     "name": "stdout",
     "output_type": "stream",
     "text": [
      "0.9999977160281603\n"
     ]
    }
   ],
   "source": [
    "with open(\"docs/2018_txt_dump/104-10012-10037.txt\", \"r\") as f:\n",
    "    print(detect_langs(f.read())[0].prob)"
   ]
  },
  {
   "cell_type": "markdown",
   "metadata": {},
   "source": [
    "Detect_langs just scores everything, even clearly very bad documents, as very highly probably English. Let's try some other measure of intelligibility."
   ]
  }
 ],
 "metadata": {
  "interpreter": {
   "hash": "d1cb6a2f147d54577edc12bb1bdc8ffacd499c4c62c63077ac5b9cb435fa9b71"
  },
  "kernelspec": {
   "display_name": "Python 3.10.2 ('.venv': venv)",
   "language": "python",
   "name": "python3"
  },
  "language_info": {
   "codemirror_mode": {
    "name": "ipython",
    "version": 3
   },
   "file_extension": ".py",
   "mimetype": "text/x-python",
   "name": "python",
   "nbconvert_exporter": "python",
   "pygments_lexer": "ipython3",
   "version": "3.10.2"
  },
  "orig_nbformat": 4
 },
 "nbformat": 4,
 "nbformat_minor": 2
}
