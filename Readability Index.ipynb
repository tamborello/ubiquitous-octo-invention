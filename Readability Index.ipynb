{
 "cells": [
  {
   "cell_type": "markdown",
   "metadata": {},
   "source": [
    "<H1>Readability Index</h1>\n",
    "Can I filter OCRed documents for readability?"
   ]
  },
  {
   "cell_type": "code",
   "execution_count": 3,
   "metadata": {},
   "outputs": [],
   "source": [
    "import spacy\n",
    "from textstat.textstat import textstatistics,legacy_round\n",
    "\n",
    "# Splits the text into sentences, using\n",
    "# Spacy's sentence segmentation which can\n",
    "# be found at https://spacy.io/usage/spacy-101\n",
    "def break_sentences(text):\n",
    "\tnlp = spacy.load('en_core_web_sm')\n",
    "\tdoc = nlp(text)\n",
    "\treturn list(doc.sents)\n",
    "\n",
    "# Returns Number of Words in the text\n",
    "def word_count(text):\n",
    "\tsentences = break_sentences(text)\n",
    "\twords = 0\n",
    "\tfor sentence in sentences:\n",
    "\t\twords += len([token for token in sentence])\n",
    "\treturn words\n",
    "\n",
    "# Returns the number of sentences in the text\n",
    "def sentence_count(text):\n",
    "\tsentences = break_sentences(text)\n",
    "\treturn len(sentences)\n",
    "\n",
    "# Returns average sentence length\n",
    "def avg_sentence_length(text):\n",
    "\twords = word_count(text)\n",
    "\tsentences = sentence_count(text)\n",
    "\taverage_sentence_length = float(words / sentences)\n",
    "\treturn average_sentence_length\n",
    "\n",
    "# Textstat is a python package, to calculate statistics from\n",
    "# text to determine readability,\n",
    "# complexity and grade level of a particular corpus.\n",
    "# Package can be found at https://pypi.python.org/pypi/textstat\n",
    "def syllables_count(word):\n",
    "\treturn textstatistics().syllable_count(word)\n",
    "\n",
    "# Returns the average number of syllables per\n",
    "# word in the text\n",
    "def avg_syllables_per_word(text):\n",
    "\tsyllable = syllables_count(text)\n",
    "\twords = word_count(text)\n",
    "\tASPW = float(syllable) / float(words)\n",
    "\treturn legacy_round(ASPW, 1)\n",
    "\n",
    "# Return total Difficult Words in a text\n",
    "def difficult_words(text):\n",
    "\t\n",
    "\tnlp = spacy.load('en_core_web_sm')\n",
    "\tdoc = nlp(text)\n",
    "\t# Find all words in the text\n",
    "\twords = []\n",
    "\tsentences = break_sentences(text)\n",
    "\tfor sentence in sentences:\n",
    "\t\twords += [str(token) for token in sentence]\n",
    "\n",
    "\t# difficult words are those with syllables >= 2\n",
    "\t# easy_word_set is provide by Textstat as\n",
    "\t# a list of common words\n",
    "\tdiff_words_set = set()\n",
    "\t\n",
    "\tfor word in words:\n",
    "\t\tsyllable_count = syllables_count(word)\n",
    "\t\tif word not in nlp.Defaults.stop_words and syllable_count >= 2:\n",
    "\t\t\tdiff_words_set.add(word)\n",
    "\n",
    "\treturn len(diff_words_set)\n",
    "\n",
    "# A word is polysyllablic if it has more than 3 syllables\n",
    "# this functions returns the number of all such words\n",
    "# present in the text\n",
    "def poly_syllable_count(text):\n",
    "\tcount = 0\n",
    "\twords = []\n",
    "\tsentences = break_sentences(text)\n",
    "\tfor sentence in sentences:\n",
    "\t\twords += [token for token in sentence]\n",
    "\t\n",
    "\n",
    "\tfor word in words:\n",
    "\t\tsyllable_count = syllables_count(word)\n",
    "\t\tif syllable_count >= 3:\n",
    "\t\t\tcount += 1\n",
    "\treturn count\n",
    "\n",
    "\n",
    "def flesch_reading_ease(text):\n",
    "\t\"\"\"\n",
    "\t\tImplements Flesch Formula:\n",
    "\t\tReading Ease score = 206.835 - (1.015 × ASL) - (84.6 × ASW)\n",
    "\t\tHere,\n",
    "\t\tASL = average sentence length (number of words\n",
    "\t\t\t\tdivided by number of sentences)\n",
    "\t\tASW = average word length in syllables (number of syllables\n",
    "\t\t\t\tdivided by number of words)\n",
    "\t\"\"\"\n",
    "\tFRE = 206.835 - float(1.015 * avg_sentence_length(text)) -\\\n",
    "\t\tfloat(84.6 * avg_syllables_per_word(text))\n",
    "\treturn legacy_round(FRE, 2)\n",
    "\n",
    "\n",
    "def gunning_fog(text):\n",
    "\tper_diff_words = (difficult_words(text) / word_count(text) * 100) + 5\n",
    "\tgrade = 0.4 * (avg_sentence_length(text) + per_diff_words)\n",
    "\treturn grade\n",
    "\n",
    "\n",
    "def smog_index(text):\n",
    "\t\"\"\"\n",
    "\t\tImplements SMOG Formula / Grading\n",
    "\t\tSMOG grading = 3 + ?polysyllable count.\n",
    "\t\tHere,\n",
    "\t\tpolysyllable count = number of words of more\n",
    "\t\tthan two syllables in a sample of 30 sentences.\n",
    "\t\"\"\"\n",
    "\n",
    "\tif sentence_count(text) >= 3:\n",
    "\t\tpoly_syllab = poly_syllable_count(text)\n",
    "\t\tSMOG = (1.043 * (30*(poly_syllab / sentence_count(text)))**0.5) \\\n",
    "\t\t\t\t+ 3.1291\n",
    "\t\treturn legacy_round(SMOG, 1)\n",
    "\telse:\n",
    "\t\treturn 0\n",
    "\n",
    "\n",
    "def dale_chall_readability_score(text):\n",
    "\t\"\"\"\n",
    "\t\tImplements Dale Challe Formula:\n",
    "\t\tRaw score = 0.1579*(PDW) + 0.0496*(ASL) + 3.6365\n",
    "\t\tHere,\n",
    "\t\t\tPDW = Percentage of difficult words.\n",
    "\t\t\tASL = Average sentence length\n",
    "\t\"\"\"\n",
    "\twords = word_count(text)\n",
    "\t# Number of words not termed as difficult words\n",
    "\tcount = word_count(text) - difficult_words(text)\n",
    "\tif words > 0:\n",
    "\n",
    "\t\t# Percentage of words not on difficult word list\n",
    "\n",
    "\t\tper = float(count) / float(words) * 100\n",
    "\t\n",
    "\t# diff_words stores percentage of difficult words\n",
    "\tdiff_words = 100 - per\n",
    "\n",
    "\traw_score = (0.1579 * diff_words) + \\\n",
    "\t\t\t\t(0.0496 * avg_sentence_length(text))\n",
    "\t\n",
    "\t# If Percentage of Difficult Words is greater than 5 %, then;\n",
    "\t# Adjusted Score = Raw Score + 3.6365,\n",
    "\t# otherwise Adjusted Score = Raw Score\n",
    "\n",
    "\tif diff_words > 5:\t\n",
    "\n",
    "\t\traw_score += 3.6365\n",
    "\t\t\n",
    "\treturn legacy_round(score, 2)\n",
    "\n"
   ]
  },
  {
   "cell_type": "code",
   "execution_count": 5,
   "metadata": {},
   "outputs": [
    {
     "name": "stdout",
     "output_type": "stream",
     "text": [
      "4\n",
      "\n",
      "LEE HARVEY OSWALD\n",
      "\n",
      "Union organization in Tulsa for 11 years and this form became\n",
      "obsolete sometim\n"
     ]
    }
   ],
   "source": [
    "with open(\"docs/2018_txt_dump/104-10012-10037.txt\", \"r\") as f:\n",
    "    good_doc = f.read()\n",
    "print(good_doc[:100])\n"
   ]
  },
  {
   "cell_type": "code",
   "execution_count": 1,
   "metadata": {},
   "outputs": [
    {
     "name": "stdout",
     "output_type": "stream",
     "text": [
      " \n",
      "\n",
      " \n",
      "\n",
      " \n",
      "\n",
      " \n",
      "\n",
      " \n",
      "\n",
      " \n",
      "\n",
      " \n",
      "\n",
      " \n",
      "\n",
      " \n",
      "\n",
      " \n",
      "\n",
      " \n",
      "\n",
      " \n",
      "\n",
      "INTERNAL D\n",
      "sez GVO “tormens* 5} SECRET ©] CONFIDENTIAL §=(-] {TE\n"
     ]
    }
   ],
   "source": [
    "with open(\"docs/2018_txt_dump/104-10003-10204.txt\", \"r\") as f:\n",
    "    bad_doc = f.read()\n",
    "print(bad_doc[:100])\n"
   ]
  },
  {
   "cell_type": "code",
   "execution_count": 6,
   "metadata": {},
   "outputs": [
    {
     "name": "stdout",
     "output_type": "stream",
     "text": [
      "flesch_reading_ease: 93.39, 68.44\n",
      "gunning_fog: 16.381631518770245, 23.200000000000003\n"
     ]
    }
   ],
   "source": [
    "print(f\"flesch_reading_ease: {flesch_reading_ease(good_doc)}, {flesch_reading_ease(bad_doc)}\")\n",
    "print(f\"gunning_fog: {gunning_fog(good_doc)}, {gunning_fog(bad_doc)}\")"
   ]
  },
  {
   "cell_type": "code",
   "execution_count": 6,
   "metadata": {},
   "outputs": [
    {
     "ename": "TypeError",
     "evalue": "'int' object is not callable",
     "output_type": "error",
     "traceback": [
      "\u001b[0;31m---------------------------------------------------------------------------\u001b[0m",
      "\u001b[0;31mTypeError\u001b[0m                                 Traceback (most recent call last)",
      "\u001b[1;32m/Users/frank/Documents/Reverent%20Galileo/Readability Index.ipynb Cell 5'\u001b[0m in \u001b[0;36m<module>\u001b[0;34m\u001b[0m\n\u001b[0;32m----> <a href='vscode-notebook-cell:/Users/frank/Documents/Reverent%2520Galileo/Readability%20Index.ipynb#ch0000003?line=0'>1</a>\u001b[0m \u001b[39mprint\u001b[39m(\u001b[39mf\u001b[39m\u001b[39m\"\u001b[39m\u001b[39msmog_index: \u001b[39m\u001b[39m{\u001b[39;00msmog_index(doc)\u001b[39m}\u001b[39;00m\u001b[39m\"\u001b[39m)\n",
      "\u001b[1;32m/Users/frank/Documents/Reverent%20Galileo/Readability Index.ipynb Cell 2'\u001b[0m in \u001b[0;36msmog_index\u001b[0;34m(text)\u001b[0m\n\u001b[1;32m    <a href='vscode-notebook-cell:/Users/frank/Documents/Reverent%2520Galileo/Readability%20Index.ipynb#ch0000001?line=109'>110</a>\u001b[0m \u001b[39m\"\"\"\u001b[39;00m\n\u001b[1;32m    <a href='vscode-notebook-cell:/Users/frank/Documents/Reverent%2520Galileo/Readability%20Index.ipynb#ch0000001?line=110'>111</a>\u001b[0m \u001b[39m\tImplements SMOG Formula / Grading\u001b[39;00m\n\u001b[1;32m    <a href='vscode-notebook-cell:/Users/frank/Documents/Reverent%2520Galileo/Readability%20Index.ipynb#ch0000001?line=111'>112</a>\u001b[0m \u001b[39m\tSMOG grading = 3 + ?polysyllable count.\u001b[39;00m\n\u001b[0;32m   (...)\u001b[0m\n\u001b[1;32m    <a href='vscode-notebook-cell:/Users/frank/Documents/Reverent%2520Galileo/Readability%20Index.ipynb#ch0000001?line=114'>115</a>\u001b[0m \u001b[39m\tthan two syllables in a sample of 30 sentences.\u001b[39;00m\n\u001b[1;32m    <a href='vscode-notebook-cell:/Users/frank/Documents/Reverent%2520Galileo/Readability%20Index.ipynb#ch0000001?line=115'>116</a>\u001b[0m \u001b[39m\"\"\"\u001b[39;00m\n\u001b[1;32m    <a href='vscode-notebook-cell:/Users/frank/Documents/Reverent%2520Galileo/Readability%20Index.ipynb#ch0000001?line=117'>118</a>\u001b[0m \u001b[39mif\u001b[39;00m sentence_count(text) \u001b[39m>\u001b[39m\u001b[39m=\u001b[39m \u001b[39m3\u001b[39m:\n\u001b[0;32m--> <a href='vscode-notebook-cell:/Users/frank/Documents/Reverent%2520Galileo/Readability%20Index.ipynb#ch0000001?line=118'>119</a>\u001b[0m \tpoly_syllab \u001b[39m=\u001b[39m poly_syllable_count(text)\n\u001b[1;32m    <a href='vscode-notebook-cell:/Users/frank/Documents/Reverent%2520Galileo/Readability%20Index.ipynb#ch0000001?line=119'>120</a>\u001b[0m \tSMOG \u001b[39m=\u001b[39m (\u001b[39m1.043\u001b[39m \u001b[39m*\u001b[39m (\u001b[39m30\u001b[39m\u001b[39m*\u001b[39m(poly_syllab \u001b[39m/\u001b[39m sentence_count(text)))\u001b[39m*\u001b[39m\u001b[39m*\u001b[39m\u001b[39m0.5\u001b[39m) \\\n\u001b[1;32m    <a href='vscode-notebook-cell:/Users/frank/Documents/Reverent%2520Galileo/Readability%20Index.ipynb#ch0000001?line=120'>121</a>\u001b[0m \t\t\t\u001b[39m+\u001b[39m \u001b[39m3.1291\u001b[39m\n\u001b[1;32m    <a href='vscode-notebook-cell:/Users/frank/Documents/Reverent%2520Galileo/Readability%20Index.ipynb#ch0000001?line=121'>122</a>\u001b[0m \t\u001b[39mreturn\u001b[39;00m legacy_round(SMOG, \u001b[39m1\u001b[39m)\n",
      "\u001b[1;32m/Users/frank/Documents/Reverent%20Galileo/Readability Index.ipynb Cell 2'\u001b[0m in \u001b[0;36mpoly_syllable_count\u001b[0;34m(text)\u001b[0m\n\u001b[1;32m     <a href='vscode-notebook-cell:/Users/frank/Documents/Reverent%2520Galileo/Readability%20Index.ipynb#ch0000001?line=77'>78</a>\u001b[0m \twords \u001b[39m+\u001b[39m\u001b[39m=\u001b[39m [token \u001b[39mfor\u001b[39;00m token \u001b[39min\u001b[39;00m sentence]\n\u001b[1;32m     <a href='vscode-notebook-cell:/Users/frank/Documents/Reverent%2520Galileo/Readability%20Index.ipynb#ch0000001?line=80'>81</a>\u001b[0m \u001b[39mfor\u001b[39;00m word \u001b[39min\u001b[39;00m words:\n\u001b[0;32m---> <a href='vscode-notebook-cell:/Users/frank/Documents/Reverent%2520Galileo/Readability%20Index.ipynb#ch0000001?line=81'>82</a>\u001b[0m \tsyllable_count \u001b[39m=\u001b[39m syllables_count(word)\n\u001b[1;32m     <a href='vscode-notebook-cell:/Users/frank/Documents/Reverent%2520Galileo/Readability%20Index.ipynb#ch0000001?line=82'>83</a>\u001b[0m \t\u001b[39mif\u001b[39;00m syllable_count \u001b[39m>\u001b[39m\u001b[39m=\u001b[39m \u001b[39m3\u001b[39m:\n\u001b[1;32m     <a href='vscode-notebook-cell:/Users/frank/Documents/Reverent%2520Galileo/Readability%20Index.ipynb#ch0000001?line=83'>84</a>\u001b[0m \t\tcount \u001b[39m+\u001b[39m\u001b[39m=\u001b[39m \u001b[39m1\u001b[39m\n",
      "\u001b[1;32m/Users/frank/Documents/Reverent%20Galileo/Readability Index.ipynb Cell 2'\u001b[0m in \u001b[0;36msyllables_count\u001b[0;34m(word)\u001b[0m\n\u001b[1;32m     <a href='vscode-notebook-cell:/Users/frank/Documents/Reverent%2520Galileo/Readability%20Index.ipynb#ch0000001?line=35'>36</a>\u001b[0m \u001b[39mdef\u001b[39;00m \u001b[39msyllables_count\u001b[39m(word):\n\u001b[0;32m---> <a href='vscode-notebook-cell:/Users/frank/Documents/Reverent%2520Galileo/Readability%20Index.ipynb#ch0000001?line=36'>37</a>\u001b[0m \t\u001b[39mreturn\u001b[39;00m textstatistics()\u001b[39m.\u001b[39;49msyllable_count(word)\n",
      "File \u001b[0;32m~/Documents/Reverent%20Galileo/.venv/lib/python3.10/site-packages/textstat/textstat.py:149\u001b[0m, in \u001b[0;36mtextstatistics.syllable_count\u001b[0;34m(self, text, lang)\u001b[0m\n\u001b[1;32m    <a href='file:///~/Documents/Reverent%2520Galileo/.venv/lib/python3.10/site-packages/textstat/textstat.py?line=145'>146</a>\u001b[0m \u001b[39mif\u001b[39;00m \u001b[39misinstance\u001b[39m(text, \u001b[39mbytes\u001b[39m):\n\u001b[1;32m    <a href='file:///~/Documents/Reverent%2520Galileo/.venv/lib/python3.10/site-packages/textstat/textstat.py?line=146'>147</a>\u001b[0m     text \u001b[39m=\u001b[39m text\u001b[39m.\u001b[39mdecode(\u001b[39mself\u001b[39m\u001b[39m.\u001b[39mtext_encoding)\n\u001b[0;32m--> <a href='file:///~/Documents/Reverent%2520Galileo/.venv/lib/python3.10/site-packages/textstat/textstat.py?line=148'>149</a>\u001b[0m text \u001b[39m=\u001b[39m text\u001b[39m.\u001b[39;49mlower()\n\u001b[1;32m    <a href='file:///~/Documents/Reverent%2520Galileo/.venv/lib/python3.10/site-packages/textstat/textstat.py?line=149'>150</a>\u001b[0m text \u001b[39m=\u001b[39m \u001b[39mself\u001b[39m\u001b[39m.\u001b[39mremove_punctuation(text)\n\u001b[1;32m    <a href='file:///~/Documents/Reverent%2520Galileo/.venv/lib/python3.10/site-packages/textstat/textstat.py?line=151'>152</a>\u001b[0m \u001b[39mif\u001b[39;00m \u001b[39mnot\u001b[39;00m text:\n",
      "\u001b[0;31mTypeError\u001b[0m: 'int' object is not callable"
     ]
    }
   ],
   "source": [
    "print(f\"smog_index: {smog_index(doc)}\")\n"
   ]
  },
  {
   "cell_type": "code",
   "execution_count": 9,
   "metadata": {},
   "outputs": [
    {
     "ename": "NameError",
     "evalue": "name 'score' is not defined",
     "output_type": "error",
     "traceback": [
      "\u001b[0;31m---------------------------------------------------------------------------\u001b[0m",
      "\u001b[0;31mNameError\u001b[0m                                 Traceback (most recent call last)",
      "\u001b[1;32m/Users/frank/Documents/Reverent%20Galileo/Readability Index.ipynb Cell 6'\u001b[0m in \u001b[0;36m<module>\u001b[0;34m\u001b[0m\n\u001b[0;32m----> <a href='vscode-notebook-cell:/Users/frank/Documents/Reverent%2520Galileo/Readability%20Index.ipynb#ch0000005?line=0'>1</a>\u001b[0m \u001b[39mprint\u001b[39m(\u001b[39mf\u001b[39m\u001b[39m\"\u001b[39m\u001b[39mdale_chall_readability_score: \u001b[39m\u001b[39m{\u001b[39;00mdale_chall_readability_score(doc)\u001b[39m}\u001b[39;00m\u001b[39m\"\u001b[39m)\n",
      "\u001b[1;32m/Users/frank/Documents/Reverent%20Galileo/Readability Index.ipynb Cell 2'\u001b[0m in \u001b[0;36mdale_chall_readability_score\u001b[0;34m(text)\u001b[0m\n\u001b[1;32m    <a href='vscode-notebook-cell:/Users/frank/Documents/Reverent%2520Galileo/Readability%20Index.ipynb#ch0000001?line=153'>154</a>\u001b[0m \u001b[39mif\u001b[39;00m diff_words \u001b[39m>\u001b[39m \u001b[39m5\u001b[39m:\t\n\u001b[1;32m    <a href='vscode-notebook-cell:/Users/frank/Documents/Reverent%2520Galileo/Readability%20Index.ipynb#ch0000001?line=155'>156</a>\u001b[0m \traw_score \u001b[39m+\u001b[39m\u001b[39m=\u001b[39m \u001b[39m3.6365\u001b[39m\n\u001b[0;32m--> <a href='vscode-notebook-cell:/Users/frank/Documents/Reverent%2520Galileo/Readability%20Index.ipynb#ch0000001?line=157'>158</a>\u001b[0m \u001b[39mreturn\u001b[39;00m legacy_round(score, \u001b[39m2\u001b[39m)\n",
      "\u001b[0;31mNameError\u001b[0m: name 'score' is not defined"
     ]
    }
   ],
   "source": [
    "print(f\"dale_chall_readability_score: {dale_chall_readability_score(doc)}\")"
   ]
  }
 ],
 "metadata": {
  "interpreter": {
   "hash": "d1cb6a2f147d54577edc12bb1bdc8ffacd499c4c62c63077ac5b9cb435fa9b71"
  },
  "kernelspec": {
   "display_name": "Python 3.10.2 ('.venv': venv)",
   "language": "python",
   "name": "python3"
  },
  "language_info": {
   "codemirror_mode": {
    "name": "ipython",
    "version": 3
   },
   "file_extension": ".py",
   "mimetype": "text/x-python",
   "name": "python",
   "nbconvert_exporter": "python",
   "pygments_lexer": "ipython3",
   "version": "3.10.2"
  },
  "orig_nbformat": 4
 },
 "nbformat": 4,
 "nbformat_minor": 2
}
