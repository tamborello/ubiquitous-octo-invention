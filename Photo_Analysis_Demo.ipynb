{
 "cells": [
  {
   "cell_type": "markdown",
   "metadata": {},
   "source": [
    "<h1>Photo Analysis Demo</h1>"
   ]
  },
  {
   "cell_type": "code",
   "execution_count": 1,
   "metadata": {},
   "outputs": [],
   "source": [
    "from azure.cognitiveservices.vision.computervision import ComputerVisionClient\n",
    "from azure.cognitiveservices.vision.computervision.models import OperationStatusCodes\n",
    "from azure.cognitiveservices.vision.computervision.models import VisualFeatureTypes\n",
    "from msrest.authentication import CognitiveServicesCredentials\n",
    "\n",
    "from array import array\n",
    "import io, os\n",
    "from PIL import Image\n",
    "import sys\n",
    "import time"
   ]
  },
  {
   "cell_type": "code",
   "execution_count": 2,
   "metadata": {},
   "outputs": [],
   "source": [
    "subscription_key = \"\"\n",
    "endpoint = \"\"\n",
    "\n",
    "computervision_client = ComputerVisionClient(endpoint, CognitiveServicesCredentials(subscription_key))"
   ]
  },
  {
   "cell_type": "markdown",
   "metadata": {},
   "source": [
    "<h2>Use a Local Image</h2>"
   ]
  },
  {
   "cell_type": "code",
   "execution_count": null,
   "metadata": {},
   "outputs": [],
   "source": [
    "image_doc = \"\"\n",
    "local_img = open('Convertible_on_a_Grassy_Hill/aut-21-rk0210-07p.jpg', 'rb')\n",
    "analysis_result = computervision_client.analyze_image_in_stream(local_img, visual_features=[\"description\", \"categories\", \"color\", \"tags\"])"
   ]
  },
  {
   "cell_type": "code",
   "execution_count": null,
   "metadata": {},
   "outputs": [
    {
     "name": "stdout",
     "output_type": "stream",
     "text": [
      "a red car parked on grass near a road and trees, 41%\n",
      "others_: 0\n",
      "outdoor_: 4\n",
      "grass: 100\n",
      "vehicle: 100\n",
      "outdoor: 99\n",
      "land vehicle: 98\n",
      "sky: 98\n",
      "wheel: 97\n",
      "transport: 93\n",
      "car: 90\n",
      "red: 87\n",
      "convertible: 81\n",
      "field: 71\n",
      "sunset: 48\n",
      "Image Doc: a red car parked on grass near a road and trees others outdoor grass vehicle outdoor land vehicle sky wheel transport car red convertible field sunset\n"
     ]
    }
   ],
   "source": [
    "image_doc = \"\"\n",
    "for caption in analysis_result.description.captions:\n",
    "    print(f\"{caption.text}, {caption.confidence * 100:.0f}%\")\n",
    "    image_doc = caption.text\n",
    "for category in analysis_result.categories:\n",
    "    print(f\"{category.name}: {category.score * 100:.0f}\")\n",
    "    image_doc = image_doc + \" \" + category.name[:-1]\n",
    "for tag in analysis_result.tags:\n",
    "    print(f\"{tag.name}: {tag.confidence * 100:.0f}\")\n",
    "    image_doc = image_doc + \" \" + tag.name\n",
    "print(f\"Image Doc: {image_doc}\")"
   ]
  },
  {
   "cell_type": "markdown",
   "metadata": {},
   "source": [
    "<h2>Use a Remote Image</h2>"
   ]
  },
  {
   "cell_type": "code",
   "execution_count": 3,
   "metadata": {},
   "outputs": [],
   "source": [
    "image_doc = \"\"\n",
    "remote_image_url = \"https://www.kimballstock.com/pix/car/p/02/aut-21-rk0210-07p.jpg\"\n",
    "analysis_result = computervision_client.analyze_image(remote_image_url, visual_features=[\"description\", \"categories\", \"color\", \"tags\"])"
   ]
  },
  {
   "cell_type": "code",
   "execution_count": 4,
   "metadata": {},
   "outputs": [
    {
     "name": "stdout",
     "output_type": "stream",
     "text": [
      "a red car parked on grass near a road and trees, 41%\n",
      "others_: 0\n",
      "outdoor_: 4\n",
      "grass: 100\n",
      "vehicle: 100\n",
      "outdoor: 99\n",
      "land vehicle: 98\n",
      "sky: 98\n",
      "wheel: 97\n",
      "transport: 93\n",
      "car: 90\n",
      "red: 87\n",
      "convertible: 81\n",
      "field: 71\n",
      "sunset: 48\n",
      "Image Doc: a red car parked on grass near a road and trees others outdoor grass vehicle outdoor land vehicle sky wheel transport car red convertible field sunset\n"
     ]
    }
   ],
   "source": [
    "image_doc = \"\"\n",
    "for caption in analysis_result.description.captions:\n",
    "    print(f\"{caption.text}, {caption.confidence * 100:.0f}%\")\n",
    "    image_doc = caption.text\n",
    "for category in analysis_result.categories:\n",
    "    print(f\"{category.name}: {category.score * 100:.0f}\")\n",
    "    image_doc = image_doc + \" \" + category.name[:-1]\n",
    "for tag in analysis_result.tags:\n",
    "    print(f\"{tag.name}: {tag.confidence * 100:.0f}\")\n",
    "    image_doc = image_doc + \" \" + tag.name\n",
    "print(f\"Image Doc: {image_doc}\")"
   ]
  }
 ],
 "metadata": {
  "interpreter": {
   "hash": "d986285629ceab87759b8909071c4264024d8b334be9754534dafa9c85ac3856"
  },
  "kernelspec": {
   "display_name": "Python 3.8.8 64-bit ('.venv': venv)",
   "language": "python",
   "name": "python3"
  },
  "language_info": {
   "codemirror_mode": {
    "name": "ipython",
    "version": 3
   },
   "file_extension": ".py",
   "mimetype": "text/x-python",
   "name": "python",
   "nbconvert_exporter": "python",
   "pygments_lexer": "ipython3",
   "version": "3.8.8"
  },
  "orig_nbformat": 4
 },
 "nbformat": 4,
 "nbformat_minor": 2
}
